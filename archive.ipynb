{
  "cells": [
    {
      "cell_type": "markdown",
      "metadata": {
        "id": "view-in-github",
        "colab_type": "text"
      },
      "source": [
        "<a href=\"https://colab.research.google.com/github/r2x4/datos_archive/blob/main/archive.ipynb\" target=\"_parent\"><img src=\"https://colab.research.google.com/assets/colab-badge.svg\" alt=\"Open In Colab\"/></a>"
      ]
    },
    {
      "cell_type": "markdown",
      "source": [
        "#   \n",
        "---\n",
        "# <center> <font color=\"#F54927\" size=\"10\">Practica Machine II</font> </center>\n",
        "---"
      ],
      "metadata": {
        "id": "TsaoO-SehpsE"
      }
    },
    {
      "cell_type": "code",
      "source": [
        "# llamar bibliotecas\n",
        "\n",
        "import pandas as pd\n",
        "import numpy as np\n",
        "import matplotlib.pyplot as plt\n",
        "import seaborn as sns"
      ],
      "metadata": {
        "id": "ApIKpH7tifR_"
      },
      "execution_count": 1,
      "outputs": []
    },
    {
      "cell_type": "code",
      "source": [
        "# llamar datos\n",
        "\n",
        "datos_csv = pd.read_csv('/content/rfm_segmented.csv')\n",
        "datos_xlsx = pd.read_excel('/content/Online_Retail_Cleaned.xlsx')"
      ],
      "metadata": {
        "id": "G_Irjqkqhp9M"
      },
      "execution_count": 3,
      "outputs": []
    },
    {
      "cell_type": "code",
      "source": [
        "datos_csv.sample(3)"
      ],
      "metadata": {
        "colab": {
          "base_uri": "https://localhost:8080/",
          "height": 143
        },
        "id": "AQVO9ASmkicS",
        "outputId": "6f927e18-186a-402b-a4fb-7b63fb71f13e"
      },
      "execution_count": 4,
      "outputs": [
        {
          "output_type": "execute_result",
          "data": {
            "text/plain": [
              "      CustomerID  Recency  Frequency  Monetary  R_score  F_score  M_score  \\\n",
              "3417       17015     5832          3   1842.56        4        4        4   \n",
              "10         12357     6847          1   6207.67        4        1        5   \n",
              "4004       17838     5652          5   2779.30        4        4        5   \n",
              "\n",
              "      RFM_Score                Segment  \n",
              "3417        444         Best Customers  \n",
              "10          415  Recent but Infrequent  \n",
              "4004        445         Best Customers  "
            ],
            "text/html": [
              "\n",
              "  <div id=\"df-8bd3d56f-03ae-496e-aeb0-921d61e32520\" class=\"colab-df-container\">\n",
              "    <div>\n",
              "<style scoped>\n",
              "    .dataframe tbody tr th:only-of-type {\n",
              "        vertical-align: middle;\n",
              "    }\n",
              "\n",
              "    .dataframe tbody tr th {\n",
              "        vertical-align: top;\n",
              "    }\n",
              "\n",
              "    .dataframe thead th {\n",
              "        text-align: right;\n",
              "    }\n",
              "</style>\n",
              "<table border=\"1\" class=\"dataframe\">\n",
              "  <thead>\n",
              "    <tr style=\"text-align: right;\">\n",
              "      <th></th>\n",
              "      <th>CustomerID</th>\n",
              "      <th>Recency</th>\n",
              "      <th>Frequency</th>\n",
              "      <th>Monetary</th>\n",
              "      <th>R_score</th>\n",
              "      <th>F_score</th>\n",
              "      <th>M_score</th>\n",
              "      <th>RFM_Score</th>\n",
              "      <th>Segment</th>\n",
              "    </tr>\n",
              "  </thead>\n",
              "  <tbody>\n",
              "    <tr>\n",
              "      <th>3417</th>\n",
              "      <td>17015</td>\n",
              "      <td>5832</td>\n",
              "      <td>3</td>\n",
              "      <td>1842.56</td>\n",
              "      <td>4</td>\n",
              "      <td>4</td>\n",
              "      <td>4</td>\n",
              "      <td>444</td>\n",
              "      <td>Best Customers</td>\n",
              "    </tr>\n",
              "    <tr>\n",
              "      <th>10</th>\n",
              "      <td>12357</td>\n",
              "      <td>6847</td>\n",
              "      <td>1</td>\n",
              "      <td>6207.67</td>\n",
              "      <td>4</td>\n",
              "      <td>1</td>\n",
              "      <td>5</td>\n",
              "      <td>415</td>\n",
              "      <td>Recent but Infrequent</td>\n",
              "    </tr>\n",
              "    <tr>\n",
              "      <th>4004</th>\n",
              "      <td>17838</td>\n",
              "      <td>5652</td>\n",
              "      <td>5</td>\n",
              "      <td>2779.30</td>\n",
              "      <td>4</td>\n",
              "      <td>4</td>\n",
              "      <td>5</td>\n",
              "      <td>445</td>\n",
              "      <td>Best Customers</td>\n",
              "    </tr>\n",
              "  </tbody>\n",
              "</table>\n",
              "</div>\n",
              "    <div class=\"colab-df-buttons\">\n",
              "\n",
              "  <div class=\"colab-df-container\">\n",
              "    <button class=\"colab-df-convert\" onclick=\"convertToInteractive('df-8bd3d56f-03ae-496e-aeb0-921d61e32520')\"\n",
              "            title=\"Convert this dataframe to an interactive table.\"\n",
              "            style=\"display:none;\">\n",
              "\n",
              "  <svg xmlns=\"http://www.w3.org/2000/svg\" height=\"24px\" viewBox=\"0 -960 960 960\">\n",
              "    <path d=\"M120-120v-720h720v720H120Zm60-500h600v-160H180v160Zm220 220h160v-160H400v160Zm0 220h160v-160H400v160ZM180-400h160v-160H180v160Zm440 0h160v-160H620v160ZM180-180h160v-160H180v160Zm440 0h160v-160H620v160Z\"/>\n",
              "  </svg>\n",
              "    </button>\n",
              "\n",
              "  <style>\n",
              "    .colab-df-container {\n",
              "      display:flex;\n",
              "      gap: 12px;\n",
              "    }\n",
              "\n",
              "    .colab-df-convert {\n",
              "      background-color: #E8F0FE;\n",
              "      border: none;\n",
              "      border-radius: 50%;\n",
              "      cursor: pointer;\n",
              "      display: none;\n",
              "      fill: #1967D2;\n",
              "      height: 32px;\n",
              "      padding: 0 0 0 0;\n",
              "      width: 32px;\n",
              "    }\n",
              "\n",
              "    .colab-df-convert:hover {\n",
              "      background-color: #E2EBFA;\n",
              "      box-shadow: 0px 1px 2px rgba(60, 64, 67, 0.3), 0px 1px 3px 1px rgba(60, 64, 67, 0.15);\n",
              "      fill: #174EA6;\n",
              "    }\n",
              "\n",
              "    .colab-df-buttons div {\n",
              "      margin-bottom: 4px;\n",
              "    }\n",
              "\n",
              "    [theme=dark] .colab-df-convert {\n",
              "      background-color: #3B4455;\n",
              "      fill: #D2E3FC;\n",
              "    }\n",
              "\n",
              "    [theme=dark] .colab-df-convert:hover {\n",
              "      background-color: #434B5C;\n",
              "      box-shadow: 0px 1px 3px 1px rgba(0, 0, 0, 0.15);\n",
              "      filter: drop-shadow(0px 1px 2px rgba(0, 0, 0, 0.3));\n",
              "      fill: #FFFFFF;\n",
              "    }\n",
              "  </style>\n",
              "\n",
              "    <script>\n",
              "      const buttonEl =\n",
              "        document.querySelector('#df-8bd3d56f-03ae-496e-aeb0-921d61e32520 button.colab-df-convert');\n",
              "      buttonEl.style.display =\n",
              "        google.colab.kernel.accessAllowed ? 'block' : 'none';\n",
              "\n",
              "      async function convertToInteractive(key) {\n",
              "        const element = document.querySelector('#df-8bd3d56f-03ae-496e-aeb0-921d61e32520');\n",
              "        const dataTable =\n",
              "          await google.colab.kernel.invokeFunction('convertToInteractive',\n",
              "                                                    [key], {});\n",
              "        if (!dataTable) return;\n",
              "\n",
              "        const docLinkHtml = 'Like what you see? Visit the ' +\n",
              "          '<a target=\"_blank\" href=https://colab.research.google.com/notebooks/data_table.ipynb>data table notebook</a>'\n",
              "          + ' to learn more about interactive tables.';\n",
              "        element.innerHTML = '';\n",
              "        dataTable['output_type'] = 'display_data';\n",
              "        await google.colab.output.renderOutput(dataTable, element);\n",
              "        const docLink = document.createElement('div');\n",
              "        docLink.innerHTML = docLinkHtml;\n",
              "        element.appendChild(docLink);\n",
              "      }\n",
              "    </script>\n",
              "  </div>\n",
              "\n",
              "\n",
              "    <div id=\"df-024974e4-4c5f-4fca-96a8-2868e4a6a150\">\n",
              "      <button class=\"colab-df-quickchart\" onclick=\"quickchart('df-024974e4-4c5f-4fca-96a8-2868e4a6a150')\"\n",
              "                title=\"Suggest charts\"\n",
              "                style=\"display:none;\">\n",
              "\n",
              "<svg xmlns=\"http://www.w3.org/2000/svg\" height=\"24px\"viewBox=\"0 0 24 24\"\n",
              "     width=\"24px\">\n",
              "    <g>\n",
              "        <path d=\"M19 3H5c-1.1 0-2 .9-2 2v14c0 1.1.9 2 2 2h14c1.1 0 2-.9 2-2V5c0-1.1-.9-2-2-2zM9 17H7v-7h2v7zm4 0h-2V7h2v10zm4 0h-2v-4h2v4z\"/>\n",
              "    </g>\n",
              "</svg>\n",
              "      </button>\n",
              "\n",
              "<style>\n",
              "  .colab-df-quickchart {\n",
              "      --bg-color: #E8F0FE;\n",
              "      --fill-color: #1967D2;\n",
              "      --hover-bg-color: #E2EBFA;\n",
              "      --hover-fill-color: #174EA6;\n",
              "      --disabled-fill-color: #AAA;\n",
              "      --disabled-bg-color: #DDD;\n",
              "  }\n",
              "\n",
              "  [theme=dark] .colab-df-quickchart {\n",
              "      --bg-color: #3B4455;\n",
              "      --fill-color: #D2E3FC;\n",
              "      --hover-bg-color: #434B5C;\n",
              "      --hover-fill-color: #FFFFFF;\n",
              "      --disabled-bg-color: #3B4455;\n",
              "      --disabled-fill-color: #666;\n",
              "  }\n",
              "\n",
              "  .colab-df-quickchart {\n",
              "    background-color: var(--bg-color);\n",
              "    border: none;\n",
              "    border-radius: 50%;\n",
              "    cursor: pointer;\n",
              "    display: none;\n",
              "    fill: var(--fill-color);\n",
              "    height: 32px;\n",
              "    padding: 0;\n",
              "    width: 32px;\n",
              "  }\n",
              "\n",
              "  .colab-df-quickchart:hover {\n",
              "    background-color: var(--hover-bg-color);\n",
              "    box-shadow: 0 1px 2px rgba(60, 64, 67, 0.3), 0 1px 3px 1px rgba(60, 64, 67, 0.15);\n",
              "    fill: var(--button-hover-fill-color);\n",
              "  }\n",
              "\n",
              "  .colab-df-quickchart-complete:disabled,\n",
              "  .colab-df-quickchart-complete:disabled:hover {\n",
              "    background-color: var(--disabled-bg-color);\n",
              "    fill: var(--disabled-fill-color);\n",
              "    box-shadow: none;\n",
              "  }\n",
              "\n",
              "  .colab-df-spinner {\n",
              "    border: 2px solid var(--fill-color);\n",
              "    border-color: transparent;\n",
              "    border-bottom-color: var(--fill-color);\n",
              "    animation:\n",
              "      spin 1s steps(1) infinite;\n",
              "  }\n",
              "\n",
              "  @keyframes spin {\n",
              "    0% {\n",
              "      border-color: transparent;\n",
              "      border-bottom-color: var(--fill-color);\n",
              "      border-left-color: var(--fill-color);\n",
              "    }\n",
              "    20% {\n",
              "      border-color: transparent;\n",
              "      border-left-color: var(--fill-color);\n",
              "      border-top-color: var(--fill-color);\n",
              "    }\n",
              "    30% {\n",
              "      border-color: transparent;\n",
              "      border-left-color: var(--fill-color);\n",
              "      border-top-color: var(--fill-color);\n",
              "      border-right-color: var(--fill-color);\n",
              "    }\n",
              "    40% {\n",
              "      border-color: transparent;\n",
              "      border-right-color: var(--fill-color);\n",
              "      border-top-color: var(--fill-color);\n",
              "    }\n",
              "    60% {\n",
              "      border-color: transparent;\n",
              "      border-right-color: var(--fill-color);\n",
              "    }\n",
              "    80% {\n",
              "      border-color: transparent;\n",
              "      border-right-color: var(--fill-color);\n",
              "      border-bottom-color: var(--fill-color);\n",
              "    }\n",
              "    90% {\n",
              "      border-color: transparent;\n",
              "      border-bottom-color: var(--fill-color);\n",
              "    }\n",
              "  }\n",
              "</style>\n",
              "\n",
              "      <script>\n",
              "        async function quickchart(key) {\n",
              "          const quickchartButtonEl =\n",
              "            document.querySelector('#' + key + ' button');\n",
              "          quickchartButtonEl.disabled = true;  // To prevent multiple clicks.\n",
              "          quickchartButtonEl.classList.add('colab-df-spinner');\n",
              "          try {\n",
              "            const charts = await google.colab.kernel.invokeFunction(\n",
              "                'suggestCharts', [key], {});\n",
              "          } catch (error) {\n",
              "            console.error('Error during call to suggestCharts:', error);\n",
              "          }\n",
              "          quickchartButtonEl.classList.remove('colab-df-spinner');\n",
              "          quickchartButtonEl.classList.add('colab-df-quickchart-complete');\n",
              "        }\n",
              "        (() => {\n",
              "          let quickchartButtonEl =\n",
              "            document.querySelector('#df-024974e4-4c5f-4fca-96a8-2868e4a6a150 button');\n",
              "          quickchartButtonEl.style.display =\n",
              "            google.colab.kernel.accessAllowed ? 'block' : 'none';\n",
              "        })();\n",
              "      </script>\n",
              "    </div>\n",
              "\n",
              "    </div>\n",
              "  </div>\n"
            ],
            "application/vnd.google.colaboratory.intrinsic+json": {
              "type": "dataframe",
              "summary": "{\n  \"name\": \"datos_csv\",\n  \"rows\": 3,\n  \"fields\": [\n    {\n      \"column\": \"CustomerID\",\n      \"properties\": {\n        \"dtype\": \"number\",\n        \"std\": 2955,\n        \"min\": 12357,\n        \"max\": 17838,\n        \"num_unique_values\": 3,\n        \"samples\": [\n          17015,\n          12357,\n          17838\n        ],\n        \"semantic_type\": \"\",\n        \"description\": \"\"\n      }\n    },\n    {\n      \"column\": \"Recency\",\n      \"properties\": {\n        \"dtype\": \"number\",\n        \"std\": 644,\n        \"min\": 5652,\n        \"max\": 6847,\n        \"num_unique_values\": 3,\n        \"samples\": [\n          5832,\n          6847,\n          5652\n        ],\n        \"semantic_type\": \"\",\n        \"description\": \"\"\n      }\n    },\n    {\n      \"column\": \"Frequency\",\n      \"properties\": {\n        \"dtype\": \"number\",\n        \"std\": 2,\n        \"min\": 1,\n        \"max\": 5,\n        \"num_unique_values\": 3,\n        \"samples\": [\n          3,\n          1,\n          5\n        ],\n        \"semantic_type\": \"\",\n        \"description\": \"\"\n      }\n    },\n    {\n      \"column\": \"Monetary\",\n      \"properties\": {\n        \"dtype\": \"number\",\n        \"std\": 2298.0204523531406,\n        \"min\": 1842.56,\n        \"max\": 6207.67,\n        \"num_unique_values\": 3,\n        \"samples\": [\n          1842.56,\n          6207.67,\n          2779.3\n        ],\n        \"semantic_type\": \"\",\n        \"description\": \"\"\n      }\n    },\n    {\n      \"column\": \"R_score\",\n      \"properties\": {\n        \"dtype\": \"number\",\n        \"std\": 0,\n        \"min\": 4,\n        \"max\": 4,\n        \"num_unique_values\": 1,\n        \"samples\": [\n          4\n        ],\n        \"semantic_type\": \"\",\n        \"description\": \"\"\n      }\n    },\n    {\n      \"column\": \"F_score\",\n      \"properties\": {\n        \"dtype\": \"number\",\n        \"std\": 1,\n        \"min\": 1,\n        \"max\": 4,\n        \"num_unique_values\": 2,\n        \"samples\": [\n          1\n        ],\n        \"semantic_type\": \"\",\n        \"description\": \"\"\n      }\n    },\n    {\n      \"column\": \"M_score\",\n      \"properties\": {\n        \"dtype\": \"number\",\n        \"std\": 0,\n        \"min\": 4,\n        \"max\": 5,\n        \"num_unique_values\": 2,\n        \"samples\": [\n          5\n        ],\n        \"semantic_type\": \"\",\n        \"description\": \"\"\n      }\n    },\n    {\n      \"column\": \"RFM_Score\",\n      \"properties\": {\n        \"dtype\": \"number\",\n        \"std\": 17,\n        \"min\": 415,\n        \"max\": 445,\n        \"num_unique_values\": 3,\n        \"samples\": [\n          444\n        ],\n        \"semantic_type\": \"\",\n        \"description\": \"\"\n      }\n    },\n    {\n      \"column\": \"Segment\",\n      \"properties\": {\n        \"dtype\": \"string\",\n        \"num_unique_values\": 2,\n        \"samples\": [\n          \"Recent but Infrequent\"\n        ],\n        \"semantic_type\": \"\",\n        \"description\": \"\"\n      }\n    }\n  ]\n}"
            }
          },
          "metadata": {},
          "execution_count": 4
        }
      ]
    },
    {
      "cell_type": "code",
      "source": [
        "datos_csv.info()"
      ],
      "metadata": {
        "colab": {
          "base_uri": "https://localhost:8080/"
        },
        "id": "YIebQSvyk2i-",
        "outputId": "8e952fd1-8eea-4323-937b-cb87d4c1c9a8"
      },
      "execution_count": 6,
      "outputs": [
        {
          "output_type": "stream",
          "name": "stdout",
          "text": [
            "<class 'pandas.core.frame.DataFrame'>\n",
            "RangeIndex: 4334 entries, 0 to 4333\n",
            "Data columns (total 9 columns):\n",
            " #   Column      Non-Null Count  Dtype  \n",
            "---  ------      --------------  -----  \n",
            " 0   CustomerID  4334 non-null   int64  \n",
            " 1   Recency     4334 non-null   int64  \n",
            " 2   Frequency   4334 non-null   int64  \n",
            " 3   Monetary    4334 non-null   float64\n",
            " 4   R_score     4334 non-null   int64  \n",
            " 5   F_score     4334 non-null   int64  \n",
            " 6   M_score     4334 non-null   int64  \n",
            " 7   RFM_Score   4334 non-null   int64  \n",
            " 8   Segment     4334 non-null   object \n",
            "dtypes: float64(1), int64(7), object(1)\n",
            "memory usage: 304.9+ KB\n"
          ]
        }
      ]
    },
    {
      "cell_type": "code",
      "source": [
        "datos_xlsx.sample(3)"
      ],
      "metadata": {
        "colab": {
          "base_uri": "https://localhost:8080/",
          "height": 195
        },
        "id": "x4VDFmhvkumF",
        "outputId": "49cf98a6-4145-42b6-d1b8-22ad7c9d5ceb"
      },
      "execution_count": 5,
      "outputs": [
        {
          "output_type": "execute_result",
          "data": {
            "text/plain": [
              "        InvoiceNo StockCode                         Description  Quantity  \\\n",
              "198413   560222.0     22414        DOORMAT NEIGHBOURHOOD WITCH        2.0   \n",
              "194973   559809.0     48184               DOORMAT ENGLISH ROSE        1.0   \n",
              "207019   561100.0     20972  PINK CREAM FELT CRAFT TRINKET BOX       12.0   \n",
              "\n",
              "               InvoiceDate  UnitPrice  CustomerID         Country  \\\n",
              "198413 2011-07-15 15:28:00       7.95     14293.0  United Kingdom   \n",
              "194973 2011-07-12 14:57:00       7.95     16409.0  United Kingdom   \n",
              "207019 2011-07-25 11:01:00       1.25     15289.0  United Kingdom   \n",
              "\n",
              "           Unnamed: 8  TotalPrice CheckBlank  \n",
              "198413  637678.594444       15.90  Not Blank  \n",
              "194973  665147.572917        7.95  Not Blank  \n",
              "207019  638123.709028       15.00  Not Blank  "
            ],
            "text/html": [
              "\n",
              "  <div id=\"df-e817e70d-2804-48c3-8dc0-c4f5d0c07417\" class=\"colab-df-container\">\n",
              "    <div>\n",
              "<style scoped>\n",
              "    .dataframe tbody tr th:only-of-type {\n",
              "        vertical-align: middle;\n",
              "    }\n",
              "\n",
              "    .dataframe tbody tr th {\n",
              "        vertical-align: top;\n",
              "    }\n",
              "\n",
              "    .dataframe thead th {\n",
              "        text-align: right;\n",
              "    }\n",
              "</style>\n",
              "<table border=\"1\" class=\"dataframe\">\n",
              "  <thead>\n",
              "    <tr style=\"text-align: right;\">\n",
              "      <th></th>\n",
              "      <th>InvoiceNo</th>\n",
              "      <th>StockCode</th>\n",
              "      <th>Description</th>\n",
              "      <th>Quantity</th>\n",
              "      <th>InvoiceDate</th>\n",
              "      <th>UnitPrice</th>\n",
              "      <th>CustomerID</th>\n",
              "      <th>Country</th>\n",
              "      <th>Unnamed: 8</th>\n",
              "      <th>TotalPrice</th>\n",
              "      <th>CheckBlank</th>\n",
              "    </tr>\n",
              "  </thead>\n",
              "  <tbody>\n",
              "    <tr>\n",
              "      <th>198413</th>\n",
              "      <td>560222.0</td>\n",
              "      <td>22414</td>\n",
              "      <td>DOORMAT NEIGHBOURHOOD WITCH</td>\n",
              "      <td>2.0</td>\n",
              "      <td>2011-07-15 15:28:00</td>\n",
              "      <td>7.95</td>\n",
              "      <td>14293.0</td>\n",
              "      <td>United Kingdom</td>\n",
              "      <td>637678.594444</td>\n",
              "      <td>15.90</td>\n",
              "      <td>Not Blank</td>\n",
              "    </tr>\n",
              "    <tr>\n",
              "      <th>194973</th>\n",
              "      <td>559809.0</td>\n",
              "      <td>48184</td>\n",
              "      <td>DOORMAT ENGLISH ROSE</td>\n",
              "      <td>1.0</td>\n",
              "      <td>2011-07-12 14:57:00</td>\n",
              "      <td>7.95</td>\n",
              "      <td>16409.0</td>\n",
              "      <td>United Kingdom</td>\n",
              "      <td>665147.572917</td>\n",
              "      <td>7.95</td>\n",
              "      <td>Not Blank</td>\n",
              "    </tr>\n",
              "    <tr>\n",
              "      <th>207019</th>\n",
              "      <td>561100.0</td>\n",
              "      <td>20972</td>\n",
              "      <td>PINK CREAM FELT CRAFT TRINKET BOX</td>\n",
              "      <td>12.0</td>\n",
              "      <td>2011-07-25 11:01:00</td>\n",
              "      <td>1.25</td>\n",
              "      <td>15289.0</td>\n",
              "      <td>United Kingdom</td>\n",
              "      <td>638123.709028</td>\n",
              "      <td>15.00</td>\n",
              "      <td>Not Blank</td>\n",
              "    </tr>\n",
              "  </tbody>\n",
              "</table>\n",
              "</div>\n",
              "    <div class=\"colab-df-buttons\">\n",
              "\n",
              "  <div class=\"colab-df-container\">\n",
              "    <button class=\"colab-df-convert\" onclick=\"convertToInteractive('df-e817e70d-2804-48c3-8dc0-c4f5d0c07417')\"\n",
              "            title=\"Convert this dataframe to an interactive table.\"\n",
              "            style=\"display:none;\">\n",
              "\n",
              "  <svg xmlns=\"http://www.w3.org/2000/svg\" height=\"24px\" viewBox=\"0 -960 960 960\">\n",
              "    <path d=\"M120-120v-720h720v720H120Zm60-500h600v-160H180v160Zm220 220h160v-160H400v160Zm0 220h160v-160H400v160ZM180-400h160v-160H180v160Zm440 0h160v-160H620v160ZM180-180h160v-160H180v160Zm440 0h160v-160H620v160Z\"/>\n",
              "  </svg>\n",
              "    </button>\n",
              "\n",
              "  <style>\n",
              "    .colab-df-container {\n",
              "      display:flex;\n",
              "      gap: 12px;\n",
              "    }\n",
              "\n",
              "    .colab-df-convert {\n",
              "      background-color: #E8F0FE;\n",
              "      border: none;\n",
              "      border-radius: 50%;\n",
              "      cursor: pointer;\n",
              "      display: none;\n",
              "      fill: #1967D2;\n",
              "      height: 32px;\n",
              "      padding: 0 0 0 0;\n",
              "      width: 32px;\n",
              "    }\n",
              "\n",
              "    .colab-df-convert:hover {\n",
              "      background-color: #E2EBFA;\n",
              "      box-shadow: 0px 1px 2px rgba(60, 64, 67, 0.3), 0px 1px 3px 1px rgba(60, 64, 67, 0.15);\n",
              "      fill: #174EA6;\n",
              "    }\n",
              "\n",
              "    .colab-df-buttons div {\n",
              "      margin-bottom: 4px;\n",
              "    }\n",
              "\n",
              "    [theme=dark] .colab-df-convert {\n",
              "      background-color: #3B4455;\n",
              "      fill: #D2E3FC;\n",
              "    }\n",
              "\n",
              "    [theme=dark] .colab-df-convert:hover {\n",
              "      background-color: #434B5C;\n",
              "      box-shadow: 0px 1px 3px 1px rgba(0, 0, 0, 0.15);\n",
              "      filter: drop-shadow(0px 1px 2px rgba(0, 0, 0, 0.3));\n",
              "      fill: #FFFFFF;\n",
              "    }\n",
              "  </style>\n",
              "\n",
              "    <script>\n",
              "      const buttonEl =\n",
              "        document.querySelector('#df-e817e70d-2804-48c3-8dc0-c4f5d0c07417 button.colab-df-convert');\n",
              "      buttonEl.style.display =\n",
              "        google.colab.kernel.accessAllowed ? 'block' : 'none';\n",
              "\n",
              "      async function convertToInteractive(key) {\n",
              "        const element = document.querySelector('#df-e817e70d-2804-48c3-8dc0-c4f5d0c07417');\n",
              "        const dataTable =\n",
              "          await google.colab.kernel.invokeFunction('convertToInteractive',\n",
              "                                                    [key], {});\n",
              "        if (!dataTable) return;\n",
              "\n",
              "        const docLinkHtml = 'Like what you see? Visit the ' +\n",
              "          '<a target=\"_blank\" href=https://colab.research.google.com/notebooks/data_table.ipynb>data table notebook</a>'\n",
              "          + ' to learn more about interactive tables.';\n",
              "        element.innerHTML = '';\n",
              "        dataTable['output_type'] = 'display_data';\n",
              "        await google.colab.output.renderOutput(dataTable, element);\n",
              "        const docLink = document.createElement('div');\n",
              "        docLink.innerHTML = docLinkHtml;\n",
              "        element.appendChild(docLink);\n",
              "      }\n",
              "    </script>\n",
              "  </div>\n",
              "\n",
              "\n",
              "    <div id=\"df-567f14a9-c2e7-42a3-8a57-53dc01bf06c6\">\n",
              "      <button class=\"colab-df-quickchart\" onclick=\"quickchart('df-567f14a9-c2e7-42a3-8a57-53dc01bf06c6')\"\n",
              "                title=\"Suggest charts\"\n",
              "                style=\"display:none;\">\n",
              "\n",
              "<svg xmlns=\"http://www.w3.org/2000/svg\" height=\"24px\"viewBox=\"0 0 24 24\"\n",
              "     width=\"24px\">\n",
              "    <g>\n",
              "        <path d=\"M19 3H5c-1.1 0-2 .9-2 2v14c0 1.1.9 2 2 2h14c1.1 0 2-.9 2-2V5c0-1.1-.9-2-2-2zM9 17H7v-7h2v7zm4 0h-2V7h2v10zm4 0h-2v-4h2v4z\"/>\n",
              "    </g>\n",
              "</svg>\n",
              "      </button>\n",
              "\n",
              "<style>\n",
              "  .colab-df-quickchart {\n",
              "      --bg-color: #E8F0FE;\n",
              "      --fill-color: #1967D2;\n",
              "      --hover-bg-color: #E2EBFA;\n",
              "      --hover-fill-color: #174EA6;\n",
              "      --disabled-fill-color: #AAA;\n",
              "      --disabled-bg-color: #DDD;\n",
              "  }\n",
              "\n",
              "  [theme=dark] .colab-df-quickchart {\n",
              "      --bg-color: #3B4455;\n",
              "      --fill-color: #D2E3FC;\n",
              "      --hover-bg-color: #434B5C;\n",
              "      --hover-fill-color: #FFFFFF;\n",
              "      --disabled-bg-color: #3B4455;\n",
              "      --disabled-fill-color: #666;\n",
              "  }\n",
              "\n",
              "  .colab-df-quickchart {\n",
              "    background-color: var(--bg-color);\n",
              "    border: none;\n",
              "    border-radius: 50%;\n",
              "    cursor: pointer;\n",
              "    display: none;\n",
              "    fill: var(--fill-color);\n",
              "    height: 32px;\n",
              "    padding: 0;\n",
              "    width: 32px;\n",
              "  }\n",
              "\n",
              "  .colab-df-quickchart:hover {\n",
              "    background-color: var(--hover-bg-color);\n",
              "    box-shadow: 0 1px 2px rgba(60, 64, 67, 0.3), 0 1px 3px 1px rgba(60, 64, 67, 0.15);\n",
              "    fill: var(--button-hover-fill-color);\n",
              "  }\n",
              "\n",
              "  .colab-df-quickchart-complete:disabled,\n",
              "  .colab-df-quickchart-complete:disabled:hover {\n",
              "    background-color: var(--disabled-bg-color);\n",
              "    fill: var(--disabled-fill-color);\n",
              "    box-shadow: none;\n",
              "  }\n",
              "\n",
              "  .colab-df-spinner {\n",
              "    border: 2px solid var(--fill-color);\n",
              "    border-color: transparent;\n",
              "    border-bottom-color: var(--fill-color);\n",
              "    animation:\n",
              "      spin 1s steps(1) infinite;\n",
              "  }\n",
              "\n",
              "  @keyframes spin {\n",
              "    0% {\n",
              "      border-color: transparent;\n",
              "      border-bottom-color: var(--fill-color);\n",
              "      border-left-color: var(--fill-color);\n",
              "    }\n",
              "    20% {\n",
              "      border-color: transparent;\n",
              "      border-left-color: var(--fill-color);\n",
              "      border-top-color: var(--fill-color);\n",
              "    }\n",
              "    30% {\n",
              "      border-color: transparent;\n",
              "      border-left-color: var(--fill-color);\n",
              "      border-top-color: var(--fill-color);\n",
              "      border-right-color: var(--fill-color);\n",
              "    }\n",
              "    40% {\n",
              "      border-color: transparent;\n",
              "      border-right-color: var(--fill-color);\n",
              "      border-top-color: var(--fill-color);\n",
              "    }\n",
              "    60% {\n",
              "      border-color: transparent;\n",
              "      border-right-color: var(--fill-color);\n",
              "    }\n",
              "    80% {\n",
              "      border-color: transparent;\n",
              "      border-right-color: var(--fill-color);\n",
              "      border-bottom-color: var(--fill-color);\n",
              "    }\n",
              "    90% {\n",
              "      border-color: transparent;\n",
              "      border-bottom-color: var(--fill-color);\n",
              "    }\n",
              "  }\n",
              "</style>\n",
              "\n",
              "      <script>\n",
              "        async function quickchart(key) {\n",
              "          const quickchartButtonEl =\n",
              "            document.querySelector('#' + key + ' button');\n",
              "          quickchartButtonEl.disabled = true;  // To prevent multiple clicks.\n",
              "          quickchartButtonEl.classList.add('colab-df-spinner');\n",
              "          try {\n",
              "            const charts = await google.colab.kernel.invokeFunction(\n",
              "                'suggestCharts', [key], {});\n",
              "          } catch (error) {\n",
              "            console.error('Error during call to suggestCharts:', error);\n",
              "          }\n",
              "          quickchartButtonEl.classList.remove('colab-df-spinner');\n",
              "          quickchartButtonEl.classList.add('colab-df-quickchart-complete');\n",
              "        }\n",
              "        (() => {\n",
              "          let quickchartButtonEl =\n",
              "            document.querySelector('#df-567f14a9-c2e7-42a3-8a57-53dc01bf06c6 button');\n",
              "          quickchartButtonEl.style.display =\n",
              "            google.colab.kernel.accessAllowed ? 'block' : 'none';\n",
              "        })();\n",
              "      </script>\n",
              "    </div>\n",
              "\n",
              "    </div>\n",
              "  </div>\n"
            ],
            "application/vnd.google.colaboratory.intrinsic+json": {
              "type": "dataframe",
              "repr_error": "0"
            }
          },
          "metadata": {},
          "execution_count": 5
        }
      ]
    },
    {
      "cell_type": "code",
      "source": [
        "datos_xlsx.info()"
      ],
      "metadata": {
        "colab": {
          "base_uri": "https://localhost:8080/"
        },
        "id": "lBbWg1pek9Xl",
        "outputId": "a7b4bd67-1e97-441a-a4ae-1dab1c3b40e9"
      },
      "execution_count": 7,
      "outputs": [
        {
          "output_type": "stream",
          "name": "stdout",
          "text": [
            "<class 'pandas.core.frame.DataFrame'>\n",
            "RangeIndex: 409371 entries, 0 to 409370\n",
            "Data columns (total 11 columns):\n",
            " #   Column       Non-Null Count   Dtype         \n",
            "---  ------       --------------   -----         \n",
            " 0   InvoiceNo    395871 non-null  float64       \n",
            " 1   StockCode    395871 non-null  object        \n",
            " 2   Description  395871 non-null  object        \n",
            " 3   Quantity     395871 non-null  float64       \n",
            " 4   InvoiceDate  395871 non-null  datetime64[ns]\n",
            " 5   UnitPrice    395871 non-null  float64       \n",
            " 6   CustomerID   395871 non-null  float64       \n",
            " 7   Country      395871 non-null  object        \n",
            " 8   Unnamed: 8   393271 non-null  float64       \n",
            " 9   TotalPrice   395871 non-null  float64       \n",
            " 10  CheckBlank   409371 non-null  object        \n",
            "dtypes: datetime64[ns](1), float64(6), object(4)\n",
            "memory usage: 34.4+ MB\n"
          ]
        }
      ]
    },
    {
      "cell_type": "code",
      "source": [
        "datos_xlsx.isnull().sum()"
      ],
      "metadata": {
        "colab": {
          "base_uri": "https://localhost:8080/",
          "height": 429
        },
        "id": "oWI8Fe58lRf1",
        "outputId": "074e999b-e1bf-4647-8a27-1e25c76e13df"
      },
      "execution_count": 8,
      "outputs": [
        {
          "output_type": "execute_result",
          "data": {
            "text/plain": [
              "InvoiceNo      13500\n",
              "StockCode      13500\n",
              "Description    13500\n",
              "Quantity       13500\n",
              "InvoiceDate    13500\n",
              "UnitPrice      13500\n",
              "CustomerID     13500\n",
              "Country        13500\n",
              "Unnamed: 8     16100\n",
              "TotalPrice     13500\n",
              "CheckBlank         0\n",
              "dtype: int64"
            ],
            "text/html": [
              "<div>\n",
              "<style scoped>\n",
              "    .dataframe tbody tr th:only-of-type {\n",
              "        vertical-align: middle;\n",
              "    }\n",
              "\n",
              "    .dataframe tbody tr th {\n",
              "        vertical-align: top;\n",
              "    }\n",
              "\n",
              "    .dataframe thead th {\n",
              "        text-align: right;\n",
              "    }\n",
              "</style>\n",
              "<table border=\"1\" class=\"dataframe\">\n",
              "  <thead>\n",
              "    <tr style=\"text-align: right;\">\n",
              "      <th></th>\n",
              "      <th>0</th>\n",
              "    </tr>\n",
              "  </thead>\n",
              "  <tbody>\n",
              "    <tr>\n",
              "      <th>InvoiceNo</th>\n",
              "      <td>13500</td>\n",
              "    </tr>\n",
              "    <tr>\n",
              "      <th>StockCode</th>\n",
              "      <td>13500</td>\n",
              "    </tr>\n",
              "    <tr>\n",
              "      <th>Description</th>\n",
              "      <td>13500</td>\n",
              "    </tr>\n",
              "    <tr>\n",
              "      <th>Quantity</th>\n",
              "      <td>13500</td>\n",
              "    </tr>\n",
              "    <tr>\n",
              "      <th>InvoiceDate</th>\n",
              "      <td>13500</td>\n",
              "    </tr>\n",
              "    <tr>\n",
              "      <th>UnitPrice</th>\n",
              "      <td>13500</td>\n",
              "    </tr>\n",
              "    <tr>\n",
              "      <th>CustomerID</th>\n",
              "      <td>13500</td>\n",
              "    </tr>\n",
              "    <tr>\n",
              "      <th>Country</th>\n",
              "      <td>13500</td>\n",
              "    </tr>\n",
              "    <tr>\n",
              "      <th>Unnamed: 8</th>\n",
              "      <td>16100</td>\n",
              "    </tr>\n",
              "    <tr>\n",
              "      <th>TotalPrice</th>\n",
              "      <td>13500</td>\n",
              "    </tr>\n",
              "    <tr>\n",
              "      <th>CheckBlank</th>\n",
              "      <td>0</td>\n",
              "    </tr>\n",
              "  </tbody>\n",
              "</table>\n",
              "</div><br><label><b>dtype:</b> int64</label>"
            ]
          },
          "metadata": {},
          "execution_count": 8
        }
      ]
    },
    {
      "cell_type": "code",
      "source": [
        "# pasar de xlxs a csv\n",
        "\n",
        "datos_xlsx.to_csv('datos_machine.csv', index=False)"
      ],
      "metadata": {
        "id": "Ct1zUSd4lecW"
      },
      "execution_count": 9,
      "outputs": []
    },
    {
      "cell_type": "code",
      "source": [
        "# llamaomos la base a tarbajar\n",
        "\n",
        "datos = pd.read_csv('/content/datos_machine.csv')"
      ],
      "metadata": {
        "id": "2jHiSFqDloPs"
      },
      "execution_count": 10,
      "outputs": []
    },
    {
      "cell_type": "code",
      "source": [
        "datos.sample(3)"
      ],
      "metadata": {
        "colab": {
          "base_uri": "https://localhost:8080/",
          "height": 195
        },
        "id": "FZtap8Hilw5f",
        "outputId": "a4894f40-b054-4f52-aecd-9cfe00bf95e2"
      },
      "execution_count": 11,
      "outputs": [
        {
          "output_type": "execute_result",
          "data": {
            "text/plain": [
              "        InvoiceNo StockCode                         Description  Quantity  \\\n",
              "83394    545533.0     22179             SET 10 LIGHTS NIGHT OWL       2.0   \n",
              "270866   568197.0     22578  WOODEN STAR CHRISTMAS SCANDINAVIAN      24.0   \n",
              "168216   556279.0     22666     RECIPE BOX PANTRY YELLOW DESIGN       1.0   \n",
              "\n",
              "                InvoiceDate  UnitPrice  CustomerID         Country  \\\n",
              "83394   2011-03-03 14:04:00       6.75     12524.0         Germany   \n",
              "270866  2011-09-25 14:52:00       0.29     16746.0  United Kingdom   \n",
              "168216  2011-06-09 19:55:00       2.95     14562.0  United Kingdom   \n",
              "\n",
              "           Unnamed: 8  TotalPrice CheckBlank  \n",
              "83394   620850.336111       13.50  Not Blank  \n",
              "270866  648356.909444        6.96  Not Blank  \n",
              "168216  634214.779861        2.95  Not Blank  "
            ],
            "text/html": [
              "\n",
              "  <div id=\"df-33050f67-358f-4de2-92d9-05aa0e389d98\" class=\"colab-df-container\">\n",
              "    <div>\n",
              "<style scoped>\n",
              "    .dataframe tbody tr th:only-of-type {\n",
              "        vertical-align: middle;\n",
              "    }\n",
              "\n",
              "    .dataframe tbody tr th {\n",
              "        vertical-align: top;\n",
              "    }\n",
              "\n",
              "    .dataframe thead th {\n",
              "        text-align: right;\n",
              "    }\n",
              "</style>\n",
              "<table border=\"1\" class=\"dataframe\">\n",
              "  <thead>\n",
              "    <tr style=\"text-align: right;\">\n",
              "      <th></th>\n",
              "      <th>InvoiceNo</th>\n",
              "      <th>StockCode</th>\n",
              "      <th>Description</th>\n",
              "      <th>Quantity</th>\n",
              "      <th>InvoiceDate</th>\n",
              "      <th>UnitPrice</th>\n",
              "      <th>CustomerID</th>\n",
              "      <th>Country</th>\n",
              "      <th>Unnamed: 8</th>\n",
              "      <th>TotalPrice</th>\n",
              "      <th>CheckBlank</th>\n",
              "    </tr>\n",
              "  </thead>\n",
              "  <tbody>\n",
              "    <tr>\n",
              "      <th>83394</th>\n",
              "      <td>545533.0</td>\n",
              "      <td>22179</td>\n",
              "      <td>SET 10 LIGHTS NIGHT OWL</td>\n",
              "      <td>2.0</td>\n",
              "      <td>2011-03-03 14:04:00</td>\n",
              "      <td>6.75</td>\n",
              "      <td>12524.0</td>\n",
              "      <td>Germany</td>\n",
              "      <td>620850.336111</td>\n",
              "      <td>13.50</td>\n",
              "      <td>Not Blank</td>\n",
              "    </tr>\n",
              "    <tr>\n",
              "      <th>270866</th>\n",
              "      <td>568197.0</td>\n",
              "      <td>22578</td>\n",
              "      <td>WOODEN STAR CHRISTMAS SCANDINAVIAN</td>\n",
              "      <td>24.0</td>\n",
              "      <td>2011-09-25 14:52:00</td>\n",
              "      <td>0.29</td>\n",
              "      <td>16746.0</td>\n",
              "      <td>United Kingdom</td>\n",
              "      <td>648356.909444</td>\n",
              "      <td>6.96</td>\n",
              "      <td>Not Blank</td>\n",
              "    </tr>\n",
              "    <tr>\n",
              "      <th>168216</th>\n",
              "      <td>556279.0</td>\n",
              "      <td>22666</td>\n",
              "      <td>RECIPE BOX PANTRY YELLOW DESIGN</td>\n",
              "      <td>1.0</td>\n",
              "      <td>2011-06-09 19:55:00</td>\n",
              "      <td>2.95</td>\n",
              "      <td>14562.0</td>\n",
              "      <td>United Kingdom</td>\n",
              "      <td>634214.779861</td>\n",
              "      <td>2.95</td>\n",
              "      <td>Not Blank</td>\n",
              "    </tr>\n",
              "  </tbody>\n",
              "</table>\n",
              "</div>\n",
              "    <div class=\"colab-df-buttons\">\n",
              "\n",
              "  <div class=\"colab-df-container\">\n",
              "    <button class=\"colab-df-convert\" onclick=\"convertToInteractive('df-33050f67-358f-4de2-92d9-05aa0e389d98')\"\n",
              "            title=\"Convert this dataframe to an interactive table.\"\n",
              "            style=\"display:none;\">\n",
              "\n",
              "  <svg xmlns=\"http://www.w3.org/2000/svg\" height=\"24px\" viewBox=\"0 -960 960 960\">\n",
              "    <path d=\"M120-120v-720h720v720H120Zm60-500h600v-160H180v160Zm220 220h160v-160H400v160Zm0 220h160v-160H400v160ZM180-400h160v-160H180v160Zm440 0h160v-160H620v160ZM180-180h160v-160H180v160Zm440 0h160v-160H620v160Z\"/>\n",
              "  </svg>\n",
              "    </button>\n",
              "\n",
              "  <style>\n",
              "    .colab-df-container {\n",
              "      display:flex;\n",
              "      gap: 12px;\n",
              "    }\n",
              "\n",
              "    .colab-df-convert {\n",
              "      background-color: #E8F0FE;\n",
              "      border: none;\n",
              "      border-radius: 50%;\n",
              "      cursor: pointer;\n",
              "      display: none;\n",
              "      fill: #1967D2;\n",
              "      height: 32px;\n",
              "      padding: 0 0 0 0;\n",
              "      width: 32px;\n",
              "    }\n",
              "\n",
              "    .colab-df-convert:hover {\n",
              "      background-color: #E2EBFA;\n",
              "      box-shadow: 0px 1px 2px rgba(60, 64, 67, 0.3), 0px 1px 3px 1px rgba(60, 64, 67, 0.15);\n",
              "      fill: #174EA6;\n",
              "    }\n",
              "\n",
              "    .colab-df-buttons div {\n",
              "      margin-bottom: 4px;\n",
              "    }\n",
              "\n",
              "    [theme=dark] .colab-df-convert {\n",
              "      background-color: #3B4455;\n",
              "      fill: #D2E3FC;\n",
              "    }\n",
              "\n",
              "    [theme=dark] .colab-df-convert:hover {\n",
              "      background-color: #434B5C;\n",
              "      box-shadow: 0px 1px 3px 1px rgba(0, 0, 0, 0.15);\n",
              "      filter: drop-shadow(0px 1px 2px rgba(0, 0, 0, 0.3));\n",
              "      fill: #FFFFFF;\n",
              "    }\n",
              "  </style>\n",
              "\n",
              "    <script>\n",
              "      const buttonEl =\n",
              "        document.querySelector('#df-33050f67-358f-4de2-92d9-05aa0e389d98 button.colab-df-convert');\n",
              "      buttonEl.style.display =\n",
              "        google.colab.kernel.accessAllowed ? 'block' : 'none';\n",
              "\n",
              "      async function convertToInteractive(key) {\n",
              "        const element = document.querySelector('#df-33050f67-358f-4de2-92d9-05aa0e389d98');\n",
              "        const dataTable =\n",
              "          await google.colab.kernel.invokeFunction('convertToInteractive',\n",
              "                                                    [key], {});\n",
              "        if (!dataTable) return;\n",
              "\n",
              "        const docLinkHtml = 'Like what you see? Visit the ' +\n",
              "          '<a target=\"_blank\" href=https://colab.research.google.com/notebooks/data_table.ipynb>data table notebook</a>'\n",
              "          + ' to learn more about interactive tables.';\n",
              "        element.innerHTML = '';\n",
              "        dataTable['output_type'] = 'display_data';\n",
              "        await google.colab.output.renderOutput(dataTable, element);\n",
              "        const docLink = document.createElement('div');\n",
              "        docLink.innerHTML = docLinkHtml;\n",
              "        element.appendChild(docLink);\n",
              "      }\n",
              "    </script>\n",
              "  </div>\n",
              "\n",
              "\n",
              "    <div id=\"df-16f65364-902f-4082-9889-2ae1ff0a08b1\">\n",
              "      <button class=\"colab-df-quickchart\" onclick=\"quickchart('df-16f65364-902f-4082-9889-2ae1ff0a08b1')\"\n",
              "                title=\"Suggest charts\"\n",
              "                style=\"display:none;\">\n",
              "\n",
              "<svg xmlns=\"http://www.w3.org/2000/svg\" height=\"24px\"viewBox=\"0 0 24 24\"\n",
              "     width=\"24px\">\n",
              "    <g>\n",
              "        <path d=\"M19 3H5c-1.1 0-2 .9-2 2v14c0 1.1.9 2 2 2h14c1.1 0 2-.9 2-2V5c0-1.1-.9-2-2-2zM9 17H7v-7h2v7zm4 0h-2V7h2v10zm4 0h-2v-4h2v4z\"/>\n",
              "    </g>\n",
              "</svg>\n",
              "      </button>\n",
              "\n",
              "<style>\n",
              "  .colab-df-quickchart {\n",
              "      --bg-color: #E8F0FE;\n",
              "      --fill-color: #1967D2;\n",
              "      --hover-bg-color: #E2EBFA;\n",
              "      --hover-fill-color: #174EA6;\n",
              "      --disabled-fill-color: #AAA;\n",
              "      --disabled-bg-color: #DDD;\n",
              "  }\n",
              "\n",
              "  [theme=dark] .colab-df-quickchart {\n",
              "      --bg-color: #3B4455;\n",
              "      --fill-color: #D2E3FC;\n",
              "      --hover-bg-color: #434B5C;\n",
              "      --hover-fill-color: #FFFFFF;\n",
              "      --disabled-bg-color: #3B4455;\n",
              "      --disabled-fill-color: #666;\n",
              "  }\n",
              "\n",
              "  .colab-df-quickchart {\n",
              "    background-color: var(--bg-color);\n",
              "    border: none;\n",
              "    border-radius: 50%;\n",
              "    cursor: pointer;\n",
              "    display: none;\n",
              "    fill: var(--fill-color);\n",
              "    height: 32px;\n",
              "    padding: 0;\n",
              "    width: 32px;\n",
              "  }\n",
              "\n",
              "  .colab-df-quickchart:hover {\n",
              "    background-color: var(--hover-bg-color);\n",
              "    box-shadow: 0 1px 2px rgba(60, 64, 67, 0.3), 0 1px 3px 1px rgba(60, 64, 67, 0.15);\n",
              "    fill: var(--button-hover-fill-color);\n",
              "  }\n",
              "\n",
              "  .colab-df-quickchart-complete:disabled,\n",
              "  .colab-df-quickchart-complete:disabled:hover {\n",
              "    background-color: var(--disabled-bg-color);\n",
              "    fill: var(--disabled-fill-color);\n",
              "    box-shadow: none;\n",
              "  }\n",
              "\n",
              "  .colab-df-spinner {\n",
              "    border: 2px solid var(--fill-color);\n",
              "    border-color: transparent;\n",
              "    border-bottom-color: var(--fill-color);\n",
              "    animation:\n",
              "      spin 1s steps(1) infinite;\n",
              "  }\n",
              "\n",
              "  @keyframes spin {\n",
              "    0% {\n",
              "      border-color: transparent;\n",
              "      border-bottom-color: var(--fill-color);\n",
              "      border-left-color: var(--fill-color);\n",
              "    }\n",
              "    20% {\n",
              "      border-color: transparent;\n",
              "      border-left-color: var(--fill-color);\n",
              "      border-top-color: var(--fill-color);\n",
              "    }\n",
              "    30% {\n",
              "      border-color: transparent;\n",
              "      border-left-color: var(--fill-color);\n",
              "      border-top-color: var(--fill-color);\n",
              "      border-right-color: var(--fill-color);\n",
              "    }\n",
              "    40% {\n",
              "      border-color: transparent;\n",
              "      border-right-color: var(--fill-color);\n",
              "      border-top-color: var(--fill-color);\n",
              "    }\n",
              "    60% {\n",
              "      border-color: transparent;\n",
              "      border-right-color: var(--fill-color);\n",
              "    }\n",
              "    80% {\n",
              "      border-color: transparent;\n",
              "      border-right-color: var(--fill-color);\n",
              "      border-bottom-color: var(--fill-color);\n",
              "    }\n",
              "    90% {\n",
              "      border-color: transparent;\n",
              "      border-bottom-color: var(--fill-color);\n",
              "    }\n",
              "  }\n",
              "</style>\n",
              "\n",
              "      <script>\n",
              "        async function quickchart(key) {\n",
              "          const quickchartButtonEl =\n",
              "            document.querySelector('#' + key + ' button');\n",
              "          quickchartButtonEl.disabled = true;  // To prevent multiple clicks.\n",
              "          quickchartButtonEl.classList.add('colab-df-spinner');\n",
              "          try {\n",
              "            const charts = await google.colab.kernel.invokeFunction(\n",
              "                'suggestCharts', [key], {});\n",
              "          } catch (error) {\n",
              "            console.error('Error during call to suggestCharts:', error);\n",
              "          }\n",
              "          quickchartButtonEl.classList.remove('colab-df-spinner');\n",
              "          quickchartButtonEl.classList.add('colab-df-quickchart-complete');\n",
              "        }\n",
              "        (() => {\n",
              "          let quickchartButtonEl =\n",
              "            document.querySelector('#df-16f65364-902f-4082-9889-2ae1ff0a08b1 button');\n",
              "          quickchartButtonEl.style.display =\n",
              "            google.colab.kernel.accessAllowed ? 'block' : 'none';\n",
              "        })();\n",
              "      </script>\n",
              "    </div>\n",
              "\n",
              "    </div>\n",
              "  </div>\n"
            ],
            "application/vnd.google.colaboratory.intrinsic+json": {
              "type": "dataframe",
              "repr_error": "0"
            }
          },
          "metadata": {},
          "execution_count": 11
        }
      ]
    },
    {
      "cell_type": "code",
      "source": [
        "datos.describe()"
      ],
      "metadata": {
        "colab": {
          "base_uri": "https://localhost:8080/",
          "height": 300
        },
        "id": "sUZT0VO2l1Vk",
        "outputId": "43ce072e-64c6-4941-c6e6-a5d10b9c7181"
      },
      "execution_count": 12,
      "outputs": [
        {
          "output_type": "execute_result",
          "data": {
            "text/plain": [
              "           InvoiceNo       Quantity     UnitPrice     CustomerID  \\\n",
              "count  395871.000000  395871.000000  395871.00000  395871.000000   \n",
              "mean   560510.253348      12.997623       3.11935   15292.841542   \n",
              "std     13055.592488     180.821260      22.14994    1713.284706   \n",
              "min    536365.000000       1.000000       0.00000   12346.000000   \n",
              "25%    549123.500000       2.000000       1.25000   13969.000000   \n",
              "50%    561797.000000       6.000000       1.95000   15157.000000   \n",
              "75%    571943.000000      12.000000       3.75000   16794.000000   \n",
              "max    581587.000000   80995.000000    8142.75000   18287.000000   \n",
              "\n",
              "          Unnamed: 8     TotalPrice  \n",
              "count  393271.000000  395871.000000  \n",
              "mean   641031.106048      22.360425  \n",
              "std     21185.544103     309.691851  \n",
              "min    589342.368750       0.000000  \n",
              "25%    626136.571875       4.680000  \n",
              "50%    640386.712500      11.800000  \n",
              "75%    652233.435417      19.800000  \n",
              "max    730335.664583  168469.600000  "
            ],
            "text/html": [
              "\n",
              "  <div id=\"df-e0922da8-ea10-46c1-881d-ac1b57f56611\" class=\"colab-df-container\">\n",
              "    <div>\n",
              "<style scoped>\n",
              "    .dataframe tbody tr th:only-of-type {\n",
              "        vertical-align: middle;\n",
              "    }\n",
              "\n",
              "    .dataframe tbody tr th {\n",
              "        vertical-align: top;\n",
              "    }\n",
              "\n",
              "    .dataframe thead th {\n",
              "        text-align: right;\n",
              "    }\n",
              "</style>\n",
              "<table border=\"1\" class=\"dataframe\">\n",
              "  <thead>\n",
              "    <tr style=\"text-align: right;\">\n",
              "      <th></th>\n",
              "      <th>InvoiceNo</th>\n",
              "      <th>Quantity</th>\n",
              "      <th>UnitPrice</th>\n",
              "      <th>CustomerID</th>\n",
              "      <th>Unnamed: 8</th>\n",
              "      <th>TotalPrice</th>\n",
              "    </tr>\n",
              "  </thead>\n",
              "  <tbody>\n",
              "    <tr>\n",
              "      <th>count</th>\n",
              "      <td>395871.000000</td>\n",
              "      <td>395871.000000</td>\n",
              "      <td>395871.00000</td>\n",
              "      <td>395871.000000</td>\n",
              "      <td>393271.000000</td>\n",
              "      <td>395871.000000</td>\n",
              "    </tr>\n",
              "    <tr>\n",
              "      <th>mean</th>\n",
              "      <td>560510.253348</td>\n",
              "      <td>12.997623</td>\n",
              "      <td>3.11935</td>\n",
              "      <td>15292.841542</td>\n",
              "      <td>641031.106048</td>\n",
              "      <td>22.360425</td>\n",
              "    </tr>\n",
              "    <tr>\n",
              "      <th>std</th>\n",
              "      <td>13055.592488</td>\n",
              "      <td>180.821260</td>\n",
              "      <td>22.14994</td>\n",
              "      <td>1713.284706</td>\n",
              "      <td>21185.544103</td>\n",
              "      <td>309.691851</td>\n",
              "    </tr>\n",
              "    <tr>\n",
              "      <th>min</th>\n",
              "      <td>536365.000000</td>\n",
              "      <td>1.000000</td>\n",
              "      <td>0.00000</td>\n",
              "      <td>12346.000000</td>\n",
              "      <td>589342.368750</td>\n",
              "      <td>0.000000</td>\n",
              "    </tr>\n",
              "    <tr>\n",
              "      <th>25%</th>\n",
              "      <td>549123.500000</td>\n",
              "      <td>2.000000</td>\n",
              "      <td>1.25000</td>\n",
              "      <td>13969.000000</td>\n",
              "      <td>626136.571875</td>\n",
              "      <td>4.680000</td>\n",
              "    </tr>\n",
              "    <tr>\n",
              "      <th>50%</th>\n",
              "      <td>561797.000000</td>\n",
              "      <td>6.000000</td>\n",
              "      <td>1.95000</td>\n",
              "      <td>15157.000000</td>\n",
              "      <td>640386.712500</td>\n",
              "      <td>11.800000</td>\n",
              "    </tr>\n",
              "    <tr>\n",
              "      <th>75%</th>\n",
              "      <td>571943.000000</td>\n",
              "      <td>12.000000</td>\n",
              "      <td>3.75000</td>\n",
              "      <td>16794.000000</td>\n",
              "      <td>652233.435417</td>\n",
              "      <td>19.800000</td>\n",
              "    </tr>\n",
              "    <tr>\n",
              "      <th>max</th>\n",
              "      <td>581587.000000</td>\n",
              "      <td>80995.000000</td>\n",
              "      <td>8142.75000</td>\n",
              "      <td>18287.000000</td>\n",
              "      <td>730335.664583</td>\n",
              "      <td>168469.600000</td>\n",
              "    </tr>\n",
              "  </tbody>\n",
              "</table>\n",
              "</div>\n",
              "    <div class=\"colab-df-buttons\">\n",
              "\n",
              "  <div class=\"colab-df-container\">\n",
              "    <button class=\"colab-df-convert\" onclick=\"convertToInteractive('df-e0922da8-ea10-46c1-881d-ac1b57f56611')\"\n",
              "            title=\"Convert this dataframe to an interactive table.\"\n",
              "            style=\"display:none;\">\n",
              "\n",
              "  <svg xmlns=\"http://www.w3.org/2000/svg\" height=\"24px\" viewBox=\"0 -960 960 960\">\n",
              "    <path d=\"M120-120v-720h720v720H120Zm60-500h600v-160H180v160Zm220 220h160v-160H400v160Zm0 220h160v-160H400v160ZM180-400h160v-160H180v160Zm440 0h160v-160H620v160ZM180-180h160v-160H180v160Zm440 0h160v-160H620v160Z\"/>\n",
              "  </svg>\n",
              "    </button>\n",
              "\n",
              "  <style>\n",
              "    .colab-df-container {\n",
              "      display:flex;\n",
              "      gap: 12px;\n",
              "    }\n",
              "\n",
              "    .colab-df-convert {\n",
              "      background-color: #E8F0FE;\n",
              "      border: none;\n",
              "      border-radius: 50%;\n",
              "      cursor: pointer;\n",
              "      display: none;\n",
              "      fill: #1967D2;\n",
              "      height: 32px;\n",
              "      padding: 0 0 0 0;\n",
              "      width: 32px;\n",
              "    }\n",
              "\n",
              "    .colab-df-convert:hover {\n",
              "      background-color: #E2EBFA;\n",
              "      box-shadow: 0px 1px 2px rgba(60, 64, 67, 0.3), 0px 1px 3px 1px rgba(60, 64, 67, 0.15);\n",
              "      fill: #174EA6;\n",
              "    }\n",
              "\n",
              "    .colab-df-buttons div {\n",
              "      margin-bottom: 4px;\n",
              "    }\n",
              "\n",
              "    [theme=dark] .colab-df-convert {\n",
              "      background-color: #3B4455;\n",
              "      fill: #D2E3FC;\n",
              "    }\n",
              "\n",
              "    [theme=dark] .colab-df-convert:hover {\n",
              "      background-color: #434B5C;\n",
              "      box-shadow: 0px 1px 3px 1px rgba(0, 0, 0, 0.15);\n",
              "      filter: drop-shadow(0px 1px 2px rgba(0, 0, 0, 0.3));\n",
              "      fill: #FFFFFF;\n",
              "    }\n",
              "  </style>\n",
              "\n",
              "    <script>\n",
              "      const buttonEl =\n",
              "        document.querySelector('#df-e0922da8-ea10-46c1-881d-ac1b57f56611 button.colab-df-convert');\n",
              "      buttonEl.style.display =\n",
              "        google.colab.kernel.accessAllowed ? 'block' : 'none';\n",
              "\n",
              "      async function convertToInteractive(key) {\n",
              "        const element = document.querySelector('#df-e0922da8-ea10-46c1-881d-ac1b57f56611');\n",
              "        const dataTable =\n",
              "          await google.colab.kernel.invokeFunction('convertToInteractive',\n",
              "                                                    [key], {});\n",
              "        if (!dataTable) return;\n",
              "\n",
              "        const docLinkHtml = 'Like what you see? Visit the ' +\n",
              "          '<a target=\"_blank\" href=https://colab.research.google.com/notebooks/data_table.ipynb>data table notebook</a>'\n",
              "          + ' to learn more about interactive tables.';\n",
              "        element.innerHTML = '';\n",
              "        dataTable['output_type'] = 'display_data';\n",
              "        await google.colab.output.renderOutput(dataTable, element);\n",
              "        const docLink = document.createElement('div');\n",
              "        docLink.innerHTML = docLinkHtml;\n",
              "        element.appendChild(docLink);\n",
              "      }\n",
              "    </script>\n",
              "  </div>\n",
              "\n",
              "\n",
              "    <div id=\"df-90f9f2a8-85da-44f4-ac27-0b6dace85538\">\n",
              "      <button class=\"colab-df-quickchart\" onclick=\"quickchart('df-90f9f2a8-85da-44f4-ac27-0b6dace85538')\"\n",
              "                title=\"Suggest charts\"\n",
              "                style=\"display:none;\">\n",
              "\n",
              "<svg xmlns=\"http://www.w3.org/2000/svg\" height=\"24px\"viewBox=\"0 0 24 24\"\n",
              "     width=\"24px\">\n",
              "    <g>\n",
              "        <path d=\"M19 3H5c-1.1 0-2 .9-2 2v14c0 1.1.9 2 2 2h14c1.1 0 2-.9 2-2V5c0-1.1-.9-2-2-2zM9 17H7v-7h2v7zm4 0h-2V7h2v10zm4 0h-2v-4h2v4z\"/>\n",
              "    </g>\n",
              "</svg>\n",
              "      </button>\n",
              "\n",
              "<style>\n",
              "  .colab-df-quickchart {\n",
              "      --bg-color: #E8F0FE;\n",
              "      --fill-color: #1967D2;\n",
              "      --hover-bg-color: #E2EBFA;\n",
              "      --hover-fill-color: #174EA6;\n",
              "      --disabled-fill-color: #AAA;\n",
              "      --disabled-bg-color: #DDD;\n",
              "  }\n",
              "\n",
              "  [theme=dark] .colab-df-quickchart {\n",
              "      --bg-color: #3B4455;\n",
              "      --fill-color: #D2E3FC;\n",
              "      --hover-bg-color: #434B5C;\n",
              "      --hover-fill-color: #FFFFFF;\n",
              "      --disabled-bg-color: #3B4455;\n",
              "      --disabled-fill-color: #666;\n",
              "  }\n",
              "\n",
              "  .colab-df-quickchart {\n",
              "    background-color: var(--bg-color);\n",
              "    border: none;\n",
              "    border-radius: 50%;\n",
              "    cursor: pointer;\n",
              "    display: none;\n",
              "    fill: var(--fill-color);\n",
              "    height: 32px;\n",
              "    padding: 0;\n",
              "    width: 32px;\n",
              "  }\n",
              "\n",
              "  .colab-df-quickchart:hover {\n",
              "    background-color: var(--hover-bg-color);\n",
              "    box-shadow: 0 1px 2px rgba(60, 64, 67, 0.3), 0 1px 3px 1px rgba(60, 64, 67, 0.15);\n",
              "    fill: var(--button-hover-fill-color);\n",
              "  }\n",
              "\n",
              "  .colab-df-quickchart-complete:disabled,\n",
              "  .colab-df-quickchart-complete:disabled:hover {\n",
              "    background-color: var(--disabled-bg-color);\n",
              "    fill: var(--disabled-fill-color);\n",
              "    box-shadow: none;\n",
              "  }\n",
              "\n",
              "  .colab-df-spinner {\n",
              "    border: 2px solid var(--fill-color);\n",
              "    border-color: transparent;\n",
              "    border-bottom-color: var(--fill-color);\n",
              "    animation:\n",
              "      spin 1s steps(1) infinite;\n",
              "  }\n",
              "\n",
              "  @keyframes spin {\n",
              "    0% {\n",
              "      border-color: transparent;\n",
              "      border-bottom-color: var(--fill-color);\n",
              "      border-left-color: var(--fill-color);\n",
              "    }\n",
              "    20% {\n",
              "      border-color: transparent;\n",
              "      border-left-color: var(--fill-color);\n",
              "      border-top-color: var(--fill-color);\n",
              "    }\n",
              "    30% {\n",
              "      border-color: transparent;\n",
              "      border-left-color: var(--fill-color);\n",
              "      border-top-color: var(--fill-color);\n",
              "      border-right-color: var(--fill-color);\n",
              "    }\n",
              "    40% {\n",
              "      border-color: transparent;\n",
              "      border-right-color: var(--fill-color);\n",
              "      border-top-color: var(--fill-color);\n",
              "    }\n",
              "    60% {\n",
              "      border-color: transparent;\n",
              "      border-right-color: var(--fill-color);\n",
              "    }\n",
              "    80% {\n",
              "      border-color: transparent;\n",
              "      border-right-color: var(--fill-color);\n",
              "      border-bottom-color: var(--fill-color);\n",
              "    }\n",
              "    90% {\n",
              "      border-color: transparent;\n",
              "      border-bottom-color: var(--fill-color);\n",
              "    }\n",
              "  }\n",
              "</style>\n",
              "\n",
              "      <script>\n",
              "        async function quickchart(key) {\n",
              "          const quickchartButtonEl =\n",
              "            document.querySelector('#' + key + ' button');\n",
              "          quickchartButtonEl.disabled = true;  // To prevent multiple clicks.\n",
              "          quickchartButtonEl.classList.add('colab-df-spinner');\n",
              "          try {\n",
              "            const charts = await google.colab.kernel.invokeFunction(\n",
              "                'suggestCharts', [key], {});\n",
              "          } catch (error) {\n",
              "            console.error('Error during call to suggestCharts:', error);\n",
              "          }\n",
              "          quickchartButtonEl.classList.remove('colab-df-spinner');\n",
              "          quickchartButtonEl.classList.add('colab-df-quickchart-complete');\n",
              "        }\n",
              "        (() => {\n",
              "          let quickchartButtonEl =\n",
              "            document.querySelector('#df-90f9f2a8-85da-44f4-ac27-0b6dace85538 button');\n",
              "          quickchartButtonEl.style.display =\n",
              "            google.colab.kernel.accessAllowed ? 'block' : 'none';\n",
              "        })();\n",
              "      </script>\n",
              "    </div>\n",
              "\n",
              "    </div>\n",
              "  </div>\n"
            ],
            "application/vnd.google.colaboratory.intrinsic+json": {
              "type": "dataframe",
              "summary": "{\n  \"name\": \"datos\",\n  \"rows\": 8,\n  \"fields\": [\n    {\n      \"column\": \"InvoiceNo\",\n      \"properties\": {\n        \"dtype\": \"number\",\n        \"std\": 194351.60767392677,\n        \"min\": 13055.592488362987,\n        \"max\": 581587.0,\n        \"num_unique_values\": 8,\n        \"samples\": [\n          560510.2533476815,\n          561797.0,\n          395871.0\n        ],\n        \"semantic_type\": \"\",\n        \"description\": \"\"\n      }\n    },\n    {\n      \"column\": \"Quantity\",\n      \"properties\": {\n        \"dtype\": \"number\",\n        \"std\": 138782.1047788649,\n        \"min\": 1.0,\n        \"max\": 395871.0,\n        \"num_unique_values\": 8,\n        \"samples\": [\n          12.997622963035939,\n          6.0,\n          395871.0\n        ],\n        \"semantic_type\": \"\",\n        \"description\": \"\"\n      }\n    },\n    {\n      \"column\": \"UnitPrice\",\n      \"properties\": {\n        \"dtype\": \"number\",\n        \"std\": 139577.6846551793,\n        \"min\": 0.0,\n        \"max\": 395871.0,\n        \"num_unique_values\": 8,\n        \"samples\": [\n          3.119349798292879,\n          1.95,\n          395871.0\n        ],\n        \"semantic_type\": \"\",\n        \"description\": \"\"\n      }\n    },\n    {\n      \"column\": \"CustomerID\",\n      \"properties\": {\n        \"dtype\": \"number\",\n        \"std\": 135331.164217367,\n        \"min\": 1713.284706354044,\n        \"max\": 395871.0,\n        \"num_unique_values\": 8,\n        \"samples\": [\n          15292.841541815389,\n          15157.0,\n          395871.0\n        ],\n        \"semantic_type\": \"\",\n        \"description\": \"\"\n      }\n    },\n    {\n      \"column\": \"Unnamed: 8\",\n      \"properties\": {\n        \"dtype\": \"number\",\n        \"std\": 229774.98247472636,\n        \"min\": 21185.544103354467,\n        \"max\": 730335.6645833333,\n        \"num_unique_values\": 8,\n        \"samples\": [\n          641031.1060478523,\n          640386.7124999999,\n          393271.0\n        ],\n        \"semantic_type\": \"\",\n        \"description\": \"\"\n      }\n    },\n    {\n      \"column\": \"TotalPrice\",\n      \"properties\": {\n        \"dtype\": \"number\",\n        \"std\": 144040.63387675432,\n        \"min\": 0.0,\n        \"max\": 395871.0,\n        \"num_unique_values\": 8,\n        \"samples\": [\n          22.360424668642054,\n          11.8,\n          395871.0\n        ],\n        \"semantic_type\": \"\",\n        \"description\": \"\"\n      }\n    }\n  ]\n}"
            }
          },
          "metadata": {},
          "execution_count": 12
        }
      ]
    },
    {
      "cell_type": "code",
      "source": [
        "datos.info()"
      ],
      "metadata": {
        "colab": {
          "base_uri": "https://localhost:8080/"
        },
        "id": "BgQQeDMYl5Ac",
        "outputId": "212f936b-7373-48cf-f6d9-c8561313bdbd"
      },
      "execution_count": 13,
      "outputs": [
        {
          "output_type": "stream",
          "name": "stdout",
          "text": [
            "<class 'pandas.core.frame.DataFrame'>\n",
            "RangeIndex: 409371 entries, 0 to 409370\n",
            "Data columns (total 11 columns):\n",
            " #   Column       Non-Null Count   Dtype  \n",
            "---  ------       --------------   -----  \n",
            " 0   InvoiceNo    395871 non-null  float64\n",
            " 1   StockCode    395871 non-null  object \n",
            " 2   Description  395871 non-null  object \n",
            " 3   Quantity     395871 non-null  float64\n",
            " 4   InvoiceDate  395871 non-null  object \n",
            " 5   UnitPrice    395871 non-null  float64\n",
            " 6   CustomerID   395871 non-null  float64\n",
            " 7   Country      395871 non-null  object \n",
            " 8   Unnamed: 8   393271 non-null  float64\n",
            " 9   TotalPrice   395871 non-null  float64\n",
            " 10  CheckBlank   409371 non-null  object \n",
            "dtypes: float64(6), object(5)\n",
            "memory usage: 34.4+ MB\n"
          ]
        }
      ]
    },
    {
      "cell_type": "code",
      "source": [
        "datos.isnull().sum()"
      ],
      "metadata": {
        "colab": {
          "base_uri": "https://localhost:8080/",
          "height": 429
        },
        "id": "W2JIJzsfl831",
        "outputId": "5ce93828-5243-4741-8574-38f69bdc6c1d"
      },
      "execution_count": 14,
      "outputs": [
        {
          "output_type": "execute_result",
          "data": {
            "text/plain": [
              "InvoiceNo      13500\n",
              "StockCode      13500\n",
              "Description    13500\n",
              "Quantity       13500\n",
              "InvoiceDate    13500\n",
              "UnitPrice      13500\n",
              "CustomerID     13500\n",
              "Country        13500\n",
              "Unnamed: 8     16100\n",
              "TotalPrice     13500\n",
              "CheckBlank         0\n",
              "dtype: int64"
            ],
            "text/html": [
              "<div>\n",
              "<style scoped>\n",
              "    .dataframe tbody tr th:only-of-type {\n",
              "        vertical-align: middle;\n",
              "    }\n",
              "\n",
              "    .dataframe tbody tr th {\n",
              "        vertical-align: top;\n",
              "    }\n",
              "\n",
              "    .dataframe thead th {\n",
              "        text-align: right;\n",
              "    }\n",
              "</style>\n",
              "<table border=\"1\" class=\"dataframe\">\n",
              "  <thead>\n",
              "    <tr style=\"text-align: right;\">\n",
              "      <th></th>\n",
              "      <th>0</th>\n",
              "    </tr>\n",
              "  </thead>\n",
              "  <tbody>\n",
              "    <tr>\n",
              "      <th>InvoiceNo</th>\n",
              "      <td>13500</td>\n",
              "    </tr>\n",
              "    <tr>\n",
              "      <th>StockCode</th>\n",
              "      <td>13500</td>\n",
              "    </tr>\n",
              "    <tr>\n",
              "      <th>Description</th>\n",
              "      <td>13500</td>\n",
              "    </tr>\n",
              "    <tr>\n",
              "      <th>Quantity</th>\n",
              "      <td>13500</td>\n",
              "    </tr>\n",
              "    <tr>\n",
              "      <th>InvoiceDate</th>\n",
              "      <td>13500</td>\n",
              "    </tr>\n",
              "    <tr>\n",
              "      <th>UnitPrice</th>\n",
              "      <td>13500</td>\n",
              "    </tr>\n",
              "    <tr>\n",
              "      <th>CustomerID</th>\n",
              "      <td>13500</td>\n",
              "    </tr>\n",
              "    <tr>\n",
              "      <th>Country</th>\n",
              "      <td>13500</td>\n",
              "    </tr>\n",
              "    <tr>\n",
              "      <th>Unnamed: 8</th>\n",
              "      <td>16100</td>\n",
              "    </tr>\n",
              "    <tr>\n",
              "      <th>TotalPrice</th>\n",
              "      <td>13500</td>\n",
              "    </tr>\n",
              "    <tr>\n",
              "      <th>CheckBlank</th>\n",
              "      <td>0</td>\n",
              "    </tr>\n",
              "  </tbody>\n",
              "</table>\n",
              "</div><br><label><b>dtype:</b> int64</label>"
            ]
          },
          "metadata": {},
          "execution_count": 14
        }
      ]
    },
    {
      "cell_type": "code",
      "source": [
        "datos.columns"
      ],
      "metadata": {
        "colab": {
          "base_uri": "https://localhost:8080/"
        },
        "id": "XEqKdKYzrw6Y",
        "outputId": "fb781fb3-5fb1-4a2a-8433-c66c9cb5f98a"
      },
      "execution_count": 15,
      "outputs": [
        {
          "output_type": "execute_result",
          "data": {
            "text/plain": [
              "Index(['InvoiceNo', 'StockCode', 'Description', 'Quantity', 'InvoiceDate',\n",
              "       'UnitPrice', 'CustomerID', 'Country', 'Unnamed: 8', 'TotalPrice',\n",
              "       'CheckBlank'],\n",
              "      dtype='object')"
            ]
          },
          "metadata": {},
          "execution_count": 15
        }
      ]
    },
    {
      "cell_type": "code",
      "source": [
        "# Renombrar columnas\n",
        "datos.rename(columns={\n",
        "    \"InvoiceNo\": \"Numero_Factura\",\n",
        "    \"StockCode\": \"Codigo_Producto\",\n",
        "    \"Description\": \"Descripcion\",\n",
        "    \"Quantity\": \"Cantidad\",\n",
        "    \"InvoiceDate\": \"Fecha_Factura\",\n",
        "    \"UnitPrice\": \"Precio_Unitario\",\n",
        "    \"CustomerID\": \"ID_Cliente\",\n",
        "    \"Country\": \"Pais\",\n",
        "    \"Unnamed: 8\": \"Columna_Vacia\",\n",
        "    \"TotalPrice\": \"Precio_Total\",\n",
        "    \"CheckBlank\": \"Verificacion_Vacia\"\n",
        "}, inplace=True)\n"
      ],
      "metadata": {
        "id": "vBpmPHC6r_oQ"
      },
      "execution_count": 16,
      "outputs": []
    },
    {
      "cell_type": "code",
      "source": [
        "datos.columns"
      ],
      "metadata": {
        "colab": {
          "base_uri": "https://localhost:8080/"
        },
        "id": "GHJxZdc7sCOD",
        "outputId": "8cf960a0-1f2b-4c2a-ee2f-620f61a12042"
      },
      "execution_count": 17,
      "outputs": [
        {
          "output_type": "execute_result",
          "data": {
            "text/plain": [
              "Index(['Numero_Factura', 'Codigo_Producto', 'Descripcion', 'Cantidad',\n",
              "       'Fecha_Factura', 'Precio_Unitario', 'ID_Cliente', 'Pais',\n",
              "       'Columna_Vacia', 'Precio_Total', 'Verificacion_Vacia'],\n",
              "      dtype='object')"
            ]
          },
          "metadata": {},
          "execution_count": 17
        }
      ]
    },
    {
      "cell_type": "code",
      "source": [
        "# hacer copia\n",
        "\n",
        "import copy\n",
        "datos_1 = copy.deepcopy(datos)"
      ],
      "metadata": {
        "id": "s9m2kQOUtBHZ"
      },
      "execution_count": 20,
      "outputs": []
    },
    {
      "cell_type": "code",
      "source": [
        "# Convertir la fecha a datetime\n",
        "datos_1[\"Fecha_Factura\"] = pd.to_datetime(datos_1[\"Fecha_Factura\"], errors=\"coerce\")"
      ],
      "metadata": {
        "id": "m92j4RA6twBC"
      },
      "execution_count": 21,
      "outputs": []
    },
    {
      "cell_type": "code",
      "source": [
        "# duplicados\n",
        "datos_1.duplicated().sum()"
      ],
      "metadata": {
        "id": "GxjqceIKucuA",
        "outputId": "51493459-04af-461b-b7c7-287c74c08d73",
        "colab": {
          "base_uri": "https://localhost:8080/"
        }
      },
      "execution_count": 26,
      "outputs": [
        {
          "output_type": "execute_result",
          "data": {
            "text/plain": [
              "np.int64(18649)"
            ]
          },
          "metadata": {},
          "execution_count": 26
        }
      ]
    },
    {
      "cell_type": "code",
      "source": [
        "datos_1.shape"
      ],
      "metadata": {
        "id": "vnC-FTRvuyxU",
        "outputId": "ab4f7245-32fe-4967-83a4-84aebbc1aec3",
        "colab": {
          "base_uri": "https://localhost:8080/"
        }
      },
      "execution_count": 29,
      "outputs": [
        {
          "output_type": "execute_result",
          "data": {
            "text/plain": [
              "(409371, 11)"
            ]
          },
          "metadata": {},
          "execution_count": 29
        }
      ]
    },
    {
      "cell_type": "code",
      "source": [
        "datos_1.drop_duplicates(inplace=True)\n",
        "print(datos_1.shape)\n"
      ],
      "metadata": {
        "id": "DQANNBhfu6cN",
        "outputId": "0906c69e-8de1-4ef8-f432-a172f0ac1231",
        "colab": {
          "base_uri": "https://localhost:8080/"
        }
      },
      "execution_count": 30,
      "outputs": [
        {
          "output_type": "stream",
          "name": "stdout",
          "text": [
            "(390722, 11)\n"
          ]
        }
      ]
    },
    {
      "cell_type": "code",
      "source": [
        "clientes_unicos = datos_1[\"ID_Cliente\"].nunique()\n",
        "print(f\"Clientes únicos: {clientes_unicos}\")"
      ],
      "metadata": {
        "id": "aT8yO1Kxtybg",
        "outputId": "1861ee1d-38ec-48ed-c988-fa0ddfd369a1",
        "colab": {
          "base_uri": "https://localhost:8080/"
        }
      },
      "execution_count": 31,
      "outputs": [
        {
          "output_type": "stream",
          "name": "stdout",
          "text": [
            "Clientes únicos: 4335\n"
          ]
        }
      ]
    },
    {
      "cell_type": "code",
      "source": [
        "datos_1.info()"
      ],
      "metadata": {
        "id": "wAL3ixX4vJTx",
        "outputId": "62678add-905b-4013-bd98-aacb4d3c4f11",
        "colab": {
          "base_uri": "https://localhost:8080/"
        }
      },
      "execution_count": 32,
      "outputs": [
        {
          "output_type": "stream",
          "name": "stdout",
          "text": [
            "<class 'pandas.core.frame.DataFrame'>\n",
            "Index: 390722 entries, 0 to 409370\n",
            "Data columns (total 11 columns):\n",
            " #   Column              Non-Null Count   Dtype         \n",
            "---  ------              --------------   -----         \n",
            " 0   Numero_Factura      390721 non-null  float64       \n",
            " 1   Codigo_Producto     390721 non-null  object        \n",
            " 2   Descripcion         390721 non-null  object        \n",
            " 3   Cantidad            390721 non-null  float64       \n",
            " 4   Fecha_Factura       390721 non-null  datetime64[ns]\n",
            " 5   Precio_Unitario     390721 non-null  float64       \n",
            " 6   ID_Cliente          390721 non-null  float64       \n",
            " 7   Pais                390721 non-null  object        \n",
            " 8   Columna_Vacia       388151 non-null  float64       \n",
            " 9   Precio_Total        390721 non-null  float64       \n",
            " 10  Verificacion_Vacia  390722 non-null  object        \n",
            "dtypes: datetime64[ns](1), float64(6), object(4)\n",
            "memory usage: 35.8+ MB\n"
          ]
        }
      ]
    },
    {
      "cell_type": "code",
      "source": [
        "# Eliminar columnas innecesarias\n",
        "datos_1.drop(columns=[\"Columna_Vacia\", \"Verificacion_Vacia\"], inplace=True)"
      ],
      "metadata": {
        "id": "6ho19hbmvp-m"
      },
      "execution_count": 33,
      "outputs": []
    },
    {
      "cell_type": "code",
      "source": [
        "# Eliminar filas con nulos en datos clave\n",
        "datos_1.dropna(subset=[\"Numero_Factura\", \"Descripcion\", \"Cantidad\",\n",
        "                       \"Precio_Unitario\", \"ID_Cliente\", \"Fecha_Factura\"], inplace=True)"
      ],
      "metadata": {
        "id": "G8cvJvI7vxTm"
      },
      "execution_count": 34,
      "outputs": []
    },
    {
      "cell_type": "code",
      "source": [
        "# Eliminar registros con cantidad o precio inválidos\n",
        "datos_1 = datos_1[(datos_1[\"Cantidad\"] > 0) & (datos_1[\"Precio_Unitario\"] > 0)]"
      ],
      "metadata": {
        "id": "1jAtE_cBvzng"
      },
      "execution_count": 35,
      "outputs": []
    },
    {
      "cell_type": "code",
      "source": [
        "# Resetear índice\n",
        "datos_1.reset_index(drop=True, inplace=True)"
      ],
      "metadata": {
        "id": "gjlSAZECv-Oa"
      },
      "execution_count": 36,
      "outputs": []
    },
    {
      "cell_type": "code",
      "source": [
        "print(f\"Registros después de limpieza: {len(datos_1)}\")"
      ],
      "metadata": {
        "id": "0zq_dTFQwAdK",
        "outputId": "b7672ccb-d50d-47e4-d325-975d21127fe0",
        "colab": {
          "base_uri": "https://localhost:8080/"
        }
      },
      "execution_count": 37,
      "outputs": [
        {
          "output_type": "stream",
          "name": "stdout",
          "text": [
            "Registros después de limpieza: 390681\n"
          ]
        }
      ]
    },
    {
      "cell_type": "code",
      "source": [
        "datos_1.info()"
      ],
      "metadata": {
        "id": "CTTpyJOjwD4S",
        "outputId": "360e992e-71cd-436a-d5de-110404e8945d",
        "colab": {
          "base_uri": "https://localhost:8080/"
        }
      },
      "execution_count": 38,
      "outputs": [
        {
          "output_type": "stream",
          "name": "stdout",
          "text": [
            "<class 'pandas.core.frame.DataFrame'>\n",
            "RangeIndex: 390681 entries, 0 to 390680\n",
            "Data columns (total 9 columns):\n",
            " #   Column           Non-Null Count   Dtype         \n",
            "---  ------           --------------   -----         \n",
            " 0   Numero_Factura   390681 non-null  float64       \n",
            " 1   Codigo_Producto  390681 non-null  object        \n",
            " 2   Descripcion      390681 non-null  object        \n",
            " 3   Cantidad         390681 non-null  float64       \n",
            " 4   Fecha_Factura    390681 non-null  datetime64[ns]\n",
            " 5   Precio_Unitario  390681 non-null  float64       \n",
            " 6   ID_Cliente       390681 non-null  float64       \n",
            " 7   Pais             390681 non-null  object        \n",
            " 8   Precio_Total     390681 non-null  float64       \n",
            "dtypes: datetime64[ns](1), float64(5), object(3)\n",
            "memory usage: 26.8+ MB\n"
          ]
        }
      ]
    },
    {
      "cell_type": "markdown",
      "source": [
        "# tartamiento de datos"
      ],
      "metadata": {
        "id": "Ll5VmtSRwR80"
      }
    },
    {
      "cell_type": "code",
      "source": [
        "# Fecha de referencia (día siguiente a la última compra)\n",
        "fecha_ref = datos_1[\"Fecha_Factura\"].max() + pd.Timedelta(days=1)"
      ],
      "metadata": {
        "id": "kEVAKsPYwVNi"
      },
      "execution_count": 39,
      "outputs": []
    },
    {
      "cell_type": "code",
      "source": [
        "# Calcular RFM\n",
        "rfm = datos_1.groupby(\"ID_Cliente\").agg({\n",
        "    \"Fecha_Factura\": lambda x: (fecha_ref - x.max()).days,  # Recency\n",
        "    \"Numero_Factura\": \"nunique\",                            # Frequency\n",
        "    \"Precio_Total\": \"sum\"                                   # Monetary\n",
        "}).reset_index()"
      ],
      "metadata": {
        "id": "pZpwnikuwYT4"
      },
      "execution_count": 40,
      "outputs": []
    },
    {
      "cell_type": "code",
      "source": [
        "# Renombrar columnas\n",
        "rfm.columns = [\"ID_Cliente\", \"Recency\", \"Frequency\", \"Monetary\"]"
      ],
      "metadata": {
        "id": "rQXPTE2Vwfxg"
      },
      "execution_count": 41,
      "outputs": []
    },
    {
      "cell_type": "code",
      "source": [
        "# Revisar resultados\n",
        "print(rfm.head())\n",
        "print(rfm.describe())"
      ],
      "metadata": {
        "id": "6FKIZWHMwicj",
        "outputId": "b1e8a373-cb7c-4e2d-d3f5-6cdac15d7d45",
        "colab": {
          "base_uri": "https://localhost:8080/"
        }
      },
      "execution_count": 42,
      "outputs": [
        {
          "output_type": "stream",
          "name": "stdout",
          "text": [
            "   ID_Cliente  Recency  Frequency  Monetary\n",
            "0     12346.0      326          1  77183.60\n",
            "1     12347.0       40          6   4085.18\n",
            "2     12348.0       75          4   1797.24\n",
            "3     12349.0       19          1   1757.55\n",
            "4     12350.0      310          1    334.40\n",
            "         ID_Cliente      Recency    Frequency       Monetary\n",
            "count   4334.000000  4334.000000  4334.000000    4334.000000\n",
            "mean   15300.925934    93.186894     4.254269    2036.871868\n",
            "std     1722.421112    99.780343     7.666632    8826.007073\n",
            "min    12346.000000     1.000000     1.000000       3.750000\n",
            "25%    13812.250000    18.250000     1.000000     306.210000\n",
            "50%    15300.500000    51.000000     2.000000     666.875000\n",
            "75%    16779.750000   143.000000     5.000000    1650.647500\n",
            "max    18287.000000   374.000000   208.000000  268728.600000\n"
          ]
        }
      ]
    },
    {
      "cell_type": "code",
      "source": [
        "# Puntaje de Recency (menor = mejor)\n",
        "rfm[\"R_score\"] = pd.qcut(rfm[\"Recency\"], 5, labels=[5,4,3,2,1]).astype(int)\n",
        "\n",
        "# Puntaje de Frequency (mayor = mejor)\n",
        "rfm[\"F_score\"] = pd.qcut(rfm[\"Frequency\"].rank(method=\"first\"), 5, labels=[1,2,3,4,5]).astype(int)\n",
        "\n",
        "# Puntaje de Monetary (mayor = mejor)\n",
        "rfm[\"M_score\"] = pd.qcut(rfm[\"Monetary\"], 5, labels=[1,2,3,4,5]).astype(int)\n",
        "\n",
        "# Score combinado\n",
        "rfm[\"RFM_Score\"] = rfm[\"R_score\"].astype(str) + rfm[\"F_score\"].astype(str) + rfm[\"M_score\"].astype(str)\n"
      ],
      "metadata": {
        "id": "AN4n7h7TwuvS"
      },
      "execution_count": 43,
      "outputs": []
    },
    {
      "cell_type": "code",
      "source": [
        "def segmentar(r, f, m):\n",
        "    if r >= 4 and f >= 4:\n",
        "        return \"Mejores Clientes\"\n",
        "    elif r >= 3 and f >= 3:\n",
        "        return \"Clientes Leales\"\n",
        "    elif r >= 4 and f <= 2:\n",
        "        return \"Clientes Recientes\"\n",
        "    elif r <= 2 and f >= 4:\n",
        "        return \"A punto de irse\"\n",
        "    else:\n",
        "        return \"Otros\"\n",
        "\n",
        "rfm[\"Segmento\"] = rfm.apply(lambda x: segmentar(x[\"R_score\"], x[\"F_score\"], x[\"M_score\"]), axis=1)\n"
      ],
      "metadata": {
        "id": "S0AAikWjw0AF"
      },
      "execution_count": 44,
      "outputs": []
    },
    {
      "cell_type": "code",
      "source": [
        "print(rfm.head(10))\n",
        "print(rfm[\"Segmento\"].value_counts())"
      ],
      "metadata": {
        "id": "L3Fwj-dVw2fU",
        "outputId": "4a6e21da-db05-4021-b0de-ab82ac77f8e2",
        "colab": {
          "base_uri": "https://localhost:8080/"
        }
      },
      "execution_count": 46,
      "outputs": [
        {
          "output_type": "stream",
          "name": "stdout",
          "text": [
            "   ID_Cliente  Recency  Frequency  Monetary  R_score  F_score  M_score  \\\n",
            "0     12346.0      326          1  77183.60        1        1        5   \n",
            "1     12347.0       40          6   4085.18        3        5        5   \n",
            "2     12348.0       75          4   1797.24        2        4        4   \n",
            "3     12349.0       19          1   1757.55        4        1        4   \n",
            "4     12350.0      310          1    334.40        1        1        2   \n",
            "5     12352.0       36          8   2506.04        3        5        5   \n",
            "6     12353.0      204          1     89.00        1        1        1   \n",
            "7     12354.0      232          1   1079.40        1        1        4   \n",
            "8     12355.0      214          1    459.40        1        1        2   \n",
            "9     12356.0       23          3   2811.43        4        3        5   \n",
            "\n",
            "  RFM_Score            Segmento  \n",
            "0       115               Otros  \n",
            "1       355     Clientes Leales  \n",
            "2       244     A punto de irse  \n",
            "3       414  Clientes Recientes  \n",
            "4       112               Otros  \n",
            "5       355     Clientes Leales  \n",
            "6       111               Otros  \n",
            "7       114               Otros  \n",
            "8       112               Otros  \n",
            "9       435     Clientes Leales  \n",
            "Segmento\n",
            "Otros                 1786\n",
            "Mejores Clientes      1119\n",
            "Clientes Leales        829\n",
            "Clientes Recientes     320\n",
            "A punto de irse        280\n",
            "Name: count, dtype: int64\n"
          ]
        }
      ]
    },
    {
      "cell_type": "code",
      "source": [
        "import matplotlib.pyplot as plt\n",
        "import seaborn as sns\n",
        "\n",
        "# --- 1. Gráfico de barras de clientes por segmento ---\n",
        "plt.figure(figsize=(8,5))\n",
        "sns.countplot(\n",
        "    data=rfm,\n",
        "    x=\"Segmento\",\n",
        "    hue=\"Segmento\",  # igual que x\n",
        "    order=rfm[\"Segmento\"].value_counts().index,\n",
        "    palette=\"viridis\",\n",
        "    legend=False\n",
        ")\n",
        "plt.title(\"Distribución de Clientes por Segmento\", fontsize=14)\n",
        "plt.xlabel(\"Segmento\")\n",
        "plt.ylabel(\"Cantidad de Clientes\")\n",
        "plt.xticks(rotation=45)\n",
        "plt.show()"
      ],
      "metadata": {
        "id": "iw6C3y17xB8x",
        "outputId": "6fbfb5e3-3665-4307-a9e9-86b147e520bb",
        "colab": {
          "base_uri": "https://localhost:8080/",
          "height": 575
        }
      },
      "execution_count": 49,
      "outputs": [
        {
          "output_type": "display_data",
          "data": {
            "text/plain": [
              "<Figure size 800x500 with 1 Axes>"
            ],
            "image/png": "[encoded data removed]"
          },
          "metadata": {}
        }
      ]
    },
    {
      "cell_type": "code",
      "source": [
        "# ----------------------------\n",
        "# 2. Gráfico de Pastel por Segmento\n",
        "# ----------------------------\n",
        "plt.figure(figsize=(7,7))\n",
        "segment_counts = rfm[\"Segmento\"].value_counts()\n",
        "plt.pie(\n",
        "    segment_counts,\n",
        "    labels=segment_counts.index,\n",
        "    autopct=\"%1.1f%%\",\n",
        "    startangle=140,\n",
        "    colors=sns.color_palette(\"viridis\", len(segment_counts))\n",
        ")\n",
        "plt.title(\"Porcentaje de Clientes por Segmento\", fontsize=14)\n",
        "plt.show()"
      ],
      "metadata": {
        "id": "WRMfGzSfx4gm",
        "outputId": "a503eb2d-2948-4d86-ad5e-fb64006c6e8a",
        "colab": {
          "base_uri": "https://localhost:8080/",
          "height": 599
        }
      },
      "execution_count": 52,
      "outputs": [
        {
          "output_type": "display_data",
          "data": {
            "text/plain": [
              "<Figure size 700x700 with 1 Axes>"
            ],
            "image/png": "[encoded data removed]"
          },
          "metadata": {}
        }
      ]
    },
    {
      "cell_type": "code",
      "source": [
        "# --- 2. Heatmap Recency vs Frequency (valores monetarios promedio) ---\n",
        "plt.figure(figsize=(8,6))\n",
        "rfm_pivot = rfm.pivot_table(index=\"F_score\", columns=\"R_score\", values=\"Monetary\", aggfunc=\"mean\")\n",
        "sns.heatmap(rfm_pivot, annot=True, fmt=\".0f\", cmap=\"YlGnBu\")\n",
        "plt.title(\"Promedio de Valor Monetario (Heatmap R vs F)\", fontsize=14)\n",
        "plt.xlabel(\"R_score\")\n",
        "plt.ylabel(\"F_score\")\n",
        "plt.show()"
      ],
      "metadata": {
        "id": "sNAx2guoxZXb",
        "outputId": "bc37c678-9962-419b-d4d4-d3b52b6b5119",
        "colab": {
          "base_uri": "https://localhost:8080/",
          "height": 565
        }
      },
      "execution_count": 50,
      "outputs": [
        {
          "output_type": "display_data",
          "data": {
            "text/plain": [
              "<Figure size 800x600 with 2 Axes>"
            ],
            "image/png": "[encoded data removed]"
          },
          "metadata": {}
        }
      ]
    },
    {
      "cell_type": "code",
      "source": [
        "# ----------------------------\n",
        "# 4. Histogramas Recency, Frequency y Monetary\n",
        "# ----------------------------\n",
        "fig, axes = plt.subplots(1, 3, figsize=(15,5))\n",
        "sns.histplot(rfm[\"Recency\"], bins=30, ax=axes[0], color=\"skyblue\")\n",
        "axes[0].set_title(\"Distribución de Recency\")\n",
        "sns.histplot(rfm[\"Frequency\"], bins=30, ax=axes[1], color=\"orange\")\n",
        "axes[1].set_title(\"Distribución de Frequency\")\n",
        "sns.histplot(rfm[\"Monetary\"], bins=30, ax=axes[2], color=\"green\")\n",
        "axes[2].set_title(\"Distribución de Monetary\")\n",
        "plt.tight_layout()\n",
        "plt.show()\n"
      ],
      "metadata": {
        "id": "Q5IakiB3xyiK",
        "outputId": "90b8c6ff-967c-440f-8609-679f27d97054",
        "colab": {
          "base_uri": "https://localhost:8080/",
          "height": 452
        }
      },
      "execution_count": 53,
      "outputs": [
        {
          "output_type": "display_data",
          "data": {
            "text/plain": [
              "<Figure size 1500x500 with 3 Axes>"
            ],
            "image/png": "[encoded data removed]"
          },
          "metadata": {}
        }
      ]
    },
    {
      "cell_type": "code",
      "source": [
        "# ----------------------------\n",
        "# Pareto Chart Refinado (80/20)\n",
        "# ----------------------------\n",
        "import matplotlib.ticker as mtick\n",
        "\n",
        "# Ordenar por valor monetario\n",
        "rfm_sorted = rfm.sort_values(\"Monetary\", ascending=False).reset_index(drop=True)\n",
        "rfm_sorted[\"cum_percentage\"] = 100 * rfm_sorted[\"Monetary\"].cumsum() / rfm_sorted[\"Monetary\"].sum()\n",
        "\n",
        "fig, ax1 = plt.subplots(figsize=(12,6))\n",
        "\n",
        "# Barras de ingresos\n",
        "bars = ax1.bar(\n",
        "    rfm_sorted.index,\n",
        "    rfm_sorted[\"Monetary\"],\n",
        "    color=\"#4C9F70\",\n",
        "    alpha=0.8\n",
        ")\n",
        "ax1.set_ylabel(\"Valor Monetario ($)\", fontsize=12)\n",
        "ax1.tick_params(axis=\"y\", labelsize=10)\n",
        "\n",
        "# Línea del porcentaje acumulado\n",
        "ax2 = ax1.twinx()\n",
        "line = ax2.plot(\n",
        "    rfm_sorted.index,\n",
        "    rfm_sorted[\"cum_percentage\"],\n",
        "    color=\"#FF4C4C\",\n",
        "    marker=\"o\",\n",
        "    linewidth=0.5\n",
        ")\n",
        "ax2.set_ylabel(\"Porcentaje Acumulado (%)\", fontsize=12)\n",
        "ax2.yaxis.set_major_formatter(mtick.PercentFormatter())\n",
        "ax2.tick_params(axis=\"y\", labelsize=10)\n",
        "\n",
        "# Línea y sombreado del 80%\n",
        "ax2.axhline(80, color=\"gold\", linestyle=\"--\", linewidth=2)\n",
        "ax2.fill_between(\n",
        "    rfm_sorted.index,\n",
        "    0,\n",
        "    80,\n",
        "    color=\"gold\",\n",
        "    alpha=0.1\n",
        ")\n",
        "\n",
        "# Títulos y estilo\n",
        "plt.title(\"Curva de Pareto - Clientes vs Ingresos\", fontsize=14, fontweight=\"bold\")\n",
        "plt.tight_layout()\n",
        "plt.show()\n"
      ],
      "metadata": {
        "id": "eoyWyTeSyCyt",
        "outputId": "080d7fa1-6696-4dcb-e22b-633e88383e29",
        "colab": {
          "base_uri": "https://localhost:8080/",
          "height": 606
        }
      },
      "execution_count": 60,
      "outputs": [
        {
          "output_type": "display_data",
          "data": {
            "text/plain": [
              "<Figure size 1200x600 with 2 Axes>"
            ],
            "image/png": "[encoded data removed]"
          },
          "metadata": {}
        }
      ]
    }
  ],
  "metadata": {
    "colab": {
      "name": "Te damos la bienvenida a Colaboratory",
      "provenance": [],
      "include_colab_link": true
    },
    "kernelspec": {
      "display_name": "Python 3",
      "name": "python3"
    }
  },
  "nbformat": 4,
  "nbformat_minor": 0
}